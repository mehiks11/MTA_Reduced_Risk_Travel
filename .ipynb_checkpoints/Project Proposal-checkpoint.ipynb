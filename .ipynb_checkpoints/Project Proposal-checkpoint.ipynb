{
 "cells": [
  {
   "cell_type": "markdown",
   "metadata": {},
   "source": [
    "This exploratory data analysis project will use city provided NYC MTA Turnstile data to provide information \n",
    "on traffic levels at different subway stations and lines. The goal is to provide informative layouts of traffic levels at different times, purposed for immunocompromised residents using public transit during the COVID-19 pandemic. A likely client for this project is the City of New York Health Department, searching for ways to provide immunocompromised New Yorkers guidance on safer commuting.\n",
    "\n",
    "The final project will delineate a sense of traffic levels at different stations by time of year, week, and day, in hopes of providing vital social clustering information to transit riders. Ideally, this information would be presented to immunocompromised patients, especially along ADA accessible lines, and along lines commonly used by those commuting to care centers, such as cancer centers. \n",
    "\n",
    "To pinpoint specific ADA lines, a seperate data table will be created with ADA accessiblity by station and joined with the main MTA Turnstile data. This information, along with the enteries, exits, time, and date columns in the MTA turnstile data, will be the most vital in producing the final project. The data will span a twelve month period, from March 2020 to March 2021, and all available stations and lines. The end result should be a navigable guide on peak traffic hours, lowest populated lines at various hours, so that immunocompromised people may be directed to aggregately travel at similar hours, safely parsing them out from the broader NYC community. "
   ]
  },
  {
   "cell_type": "code",
   "execution_count": null,
   "metadata": {},
   "outputs": [],
   "source": []
  },
  {
   "cell_type": "code",
   "execution_count": null,
   "metadata": {},
   "outputs": [],
   "source": []
  }
 ],
 "metadata": {
  "kernelspec": {
   "display_name": "Python 3",
   "language": "python",
   "name": "python3"
  },
  "language_info": {
   "codemirror_mode": {
    "name": "ipython",
    "version": 3
   },
   "file_extension": ".py",
   "mimetype": "text/x-python",
   "name": "python",
   "nbconvert_exporter": "python",
   "pygments_lexer": "ipython3",
   "version": "3.8.5"
  }
 },
 "nbformat": 4,
 "nbformat_minor": 4
}
