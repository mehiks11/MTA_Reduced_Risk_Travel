{
 "cells": [
  {
   "cell_type": "markdown",
   "metadata": {},
   "source": [
    "# MTA Subway Guide for Immunocompromised Transit Users\n",
    "### The following notebook details the code run-down delineating traffic levels at different times/days for the NYC subway system. The goal is to provide ranked best travel times (lowest traffic times) by station/line to be used by immunocompromised transit riders to decide when is an opportune time to schedule travel through the city."
   ]
  },
  {
   "cell_type": "markdown",
   "metadata": {},
   "source": [
    "The following code:\n",
    "1. Imports necessary packages    "
   ]
  },
  {
   "cell_type": "code",
   "execution_count": 1435,
   "metadata": {},
   "outputs": [],
   "source": [
    "import pandas as pd\n",
    "import numpy as np\n",
    "from sqlalchemy import create_engine\n",
    "import urllib.request\n",
    "import seaborn as sns\n",
    "\n",
    "import matplotlib.pyplot as plt\n",
    "from sklearn import datasets"
   ]
  },
  {
   "cell_type": "markdown",
   "metadata": {},
   "source": [
    "The following code \n",
    "1. Imports our data set with the complex ids that will be used to add complex_ids to our MTA turnstiles data set \n",
    "2. renames certain columns to match with our MTA turnstiles column names\n"
   ]
  },
  {
   "cell_type": "code",
   "execution_count": 1436,
   "metadata": {},
   "outputs": [
    {
     "data": {
      "text/html": [
       "<div>\n",
       "<style scoped>\n",
       "    .dataframe tbody tr th:only-of-type {\n",
       "        vertical-align: middle;\n",
       "    }\n",
       "\n",
       "    .dataframe tbody tr th {\n",
       "        vertical-align: top;\n",
       "    }\n",
       "\n",
       "    .dataframe thead th {\n",
       "        text-align: right;\n",
       "    }\n",
       "</style>\n",
       "<table border=\"1\" class=\"dataframe\">\n",
       "  <thead>\n",
       "    <tr style=\"text-align: right;\">\n",
       "      <th></th>\n",
       "      <th>UNIT</th>\n",
       "      <th>C/A</th>\n",
       "      <th>COMPLEX_ID</th>\n",
       "      <th>STATION</th>\n",
       "      <th>LINENAME</th>\n",
       "      <th>DIVISION</th>\n",
       "    </tr>\n",
       "  </thead>\n",
       "  <tbody>\n",
       "    <tr>\n",
       "      <th>0</th>\n",
       "      <td>R001</td>\n",
       "      <td>A060</td>\n",
       "      <td>635.0</td>\n",
       "      <td>WHITEHALL ST</td>\n",
       "      <td>R1</td>\n",
       "      <td>BMT</td>\n",
       "    </tr>\n",
       "    <tr>\n",
       "      <th>1</th>\n",
       "      <td>R001</td>\n",
       "      <td>A058</td>\n",
       "      <td>635.0</td>\n",
       "      <td>WHITEHALL ST</td>\n",
       "      <td>R1</td>\n",
       "      <td>BMT</td>\n",
       "    </tr>\n",
       "    <tr>\n",
       "      <th>2</th>\n",
       "      <td>R001</td>\n",
       "      <td>R101S</td>\n",
       "      <td>635.0</td>\n",
       "      <td>SOUTH FERRY</td>\n",
       "      <td>R1</td>\n",
       "      <td>IRT</td>\n",
       "    </tr>\n",
       "    <tr>\n",
       "      <th>3</th>\n",
       "      <td>R002</td>\n",
       "      <td>A077</td>\n",
       "      <td>628.0</td>\n",
       "      <td>FULTON ST</td>\n",
       "      <td>ACJZ2345</td>\n",
       "      <td>BMT</td>\n",
       "    </tr>\n",
       "    <tr>\n",
       "      <th>4</th>\n",
       "      <td>R002</td>\n",
       "      <td>A081</td>\n",
       "      <td>628.0</td>\n",
       "      <td>FULTON ST</td>\n",
       "      <td>ACJZ2345</td>\n",
       "      <td>BMT</td>\n",
       "    </tr>\n",
       "  </tbody>\n",
       "</table>\n",
       "</div>"
      ],
      "text/plain": [
       "   UNIT    C/A  COMPLEX_ID       STATION  LINENAME DIVISION\n",
       "0  R001   A060       635.0  WHITEHALL ST        R1      BMT\n",
       "1  R001   A058       635.0  WHITEHALL ST        R1      BMT\n",
       "2  R001  R101S       635.0   SOUTH FERRY        R1      IRT\n",
       "3  R002   A077       628.0     FULTON ST  ACJZ2345      BMT\n",
       "4  R002   A081       628.0     FULTON ST  ACJZ2345      BMT"
      ]
     },
     "execution_count": 1436,
     "metadata": {},
     "output_type": "execute_result"
    }
   ],
   "source": [
    "complex_ids= pd.read_csv(r'/Users/mehikapatel/Downloads/remote_complex_lookupcsv/body.csv')\n",
    "complex_ids.rename({'remote':'UNIT', 'division':'DIVISION','line_name':'LINENAME','booth':'C/A', \"station\": \"STATION\", \"complex_id\": \"COMPLEX_ID\"},inplace=True, axis=1)\n",
    "complex_ids.head()"
   ]
  },
  {
   "cell_type": "markdown",
   "metadata": {},
   "source": [
    "The following code:\n",
    "1. Pulls our MTA turnstiles data from SQL to Python using SQLAlchemy into a datatable called df\n",
    "2. Run a sample SQL query using SQLAlchemy to obtain 59 ST station's data\n",
    "3. Gives us a look at some of the first entries in df"
   ]
  },
  {
   "cell_type": "code",
   "execution_count": 1437,
   "metadata": {},
   "outputs": [
    {
     "data": {
      "text/html": [
       "<div>\n",
       "<style scoped>\n",
       "    .dataframe tbody tr th:only-of-type {\n",
       "        vertical-align: middle;\n",
       "    }\n",
       "\n",
       "    .dataframe tbody tr th {\n",
       "        vertical-align: top;\n",
       "    }\n",
       "\n",
       "    .dataframe thead th {\n",
       "        text-align: right;\n",
       "    }\n",
       "</style>\n",
       "<table border=\"1\" class=\"dataframe\">\n",
       "  <thead>\n",
       "    <tr style=\"text-align: right;\">\n",
       "      <th></th>\n",
       "      <th>C/A</th>\n",
       "      <th>UNIT</th>\n",
       "      <th>SCP</th>\n",
       "      <th>STATION</th>\n",
       "      <th>LINENAME</th>\n",
       "      <th>DIVISION</th>\n",
       "      <th>DATE</th>\n",
       "      <th>TIME</th>\n",
       "      <th>DESC</th>\n",
       "      <th>ENTRIES</th>\n",
       "      <th>EXITS</th>\n",
       "    </tr>\n",
       "  </thead>\n",
       "  <tbody>\n",
       "    <tr>\n",
       "      <th>0</th>\n",
       "      <td>A002</td>\n",
       "      <td>R051</td>\n",
       "      <td>02-00-00</td>\n",
       "      <td>59 ST</td>\n",
       "      <td>NQR456W</td>\n",
       "      <td>BMT</td>\n",
       "      <td>03/13/2021</td>\n",
       "      <td>03:00:00</td>\n",
       "      <td>REGULAR</td>\n",
       "      <td>7543925</td>\n",
       "      <td>2573549</td>\n",
       "    </tr>\n",
       "    <tr>\n",
       "      <th>1</th>\n",
       "      <td>A002</td>\n",
       "      <td>R051</td>\n",
       "      <td>02-00-00</td>\n",
       "      <td>59 ST</td>\n",
       "      <td>NQR456W</td>\n",
       "      <td>BMT</td>\n",
       "      <td>03/13/2021</td>\n",
       "      <td>07:00:00</td>\n",
       "      <td>REGULAR</td>\n",
       "      <td>7543931</td>\n",
       "      <td>2573559</td>\n",
       "    </tr>\n",
       "    <tr>\n",
       "      <th>2</th>\n",
       "      <td>A002</td>\n",
       "      <td>R051</td>\n",
       "      <td>02-00-00</td>\n",
       "      <td>59 ST</td>\n",
       "      <td>NQR456W</td>\n",
       "      <td>BMT</td>\n",
       "      <td>03/13/2021</td>\n",
       "      <td>11:00:00</td>\n",
       "      <td>REGULAR</td>\n",
       "      <td>7543970</td>\n",
       "      <td>2573622</td>\n",
       "    </tr>\n",
       "    <tr>\n",
       "      <th>3</th>\n",
       "      <td>A002</td>\n",
       "      <td>R051</td>\n",
       "      <td>02-00-00</td>\n",
       "      <td>59 ST</td>\n",
       "      <td>NQR456W</td>\n",
       "      <td>BMT</td>\n",
       "      <td>03/13/2021</td>\n",
       "      <td>15:00:00</td>\n",
       "      <td>REGULAR</td>\n",
       "      <td>7544072</td>\n",
       "      <td>2573700</td>\n",
       "    </tr>\n",
       "    <tr>\n",
       "      <th>4</th>\n",
       "      <td>A002</td>\n",
       "      <td>R051</td>\n",
       "      <td>02-00-00</td>\n",
       "      <td>59 ST</td>\n",
       "      <td>NQR456W</td>\n",
       "      <td>BMT</td>\n",
       "      <td>03/13/2021</td>\n",
       "      <td>19:00:00</td>\n",
       "      <td>REGULAR</td>\n",
       "      <td>7544219</td>\n",
       "      <td>2573729</td>\n",
       "    </tr>\n",
       "  </tbody>\n",
       "</table>\n",
       "</div>"
      ],
      "text/plain": [
       "    C/A  UNIT       SCP STATION LINENAME DIVISION        DATE      TIME  \\\n",
       "0  A002  R051  02-00-00   59 ST  NQR456W      BMT  03/13/2021  03:00:00   \n",
       "1  A002  R051  02-00-00   59 ST  NQR456W      BMT  03/13/2021  07:00:00   \n",
       "2  A002  R051  02-00-00   59 ST  NQR456W      BMT  03/13/2021  11:00:00   \n",
       "3  A002  R051  02-00-00   59 ST  NQR456W      BMT  03/13/2021  15:00:00   \n",
       "4  A002  R051  02-00-00   59 ST  NQR456W      BMT  03/13/2021  19:00:00   \n",
       "\n",
       "      DESC  ENTRIES    EXITS  \n",
       "0  REGULAR  7543925  2573549  \n",
       "1  REGULAR  7543931  2573559  \n",
       "2  REGULAR  7543970  2573622  \n",
       "3  REGULAR  7544072  2573700  \n",
       "4  REGULAR  7544219  2573729  "
      ]
     },
     "execution_count": 1437,
     "metadata": {},
     "output_type": "execute_result"
    }
   ],
   "source": [
    "#pull data from SQL to python using SQLAlchemy\n",
    "engine = create_engine(\"sqlite:///mta.db\")\n",
    "df = pd.read_sql('SELECT * FROM mta_data;', engine)\n",
    "#SQLAlchemy Querying 59th ST for initial exploration\n",
    "FIFTY_NINE_ST_DATA= pd.read_sql(\"select * FROM mta_data where station='59 ST'\",engine)\n",
    "\n",
    "df.head()\n",
    "#describe the df\n",
    "# df.describe()\n",
    "#info on the df\n",
    "# df.info()"
   ]
  },
  {
   "cell_type": "markdown",
   "metadata": {},
   "source": [
    "The following code:\n",
    "1. Creates a datetime column in our df set called OBSERVED_TIME"
   ]
  },
  {
   "cell_type": "code",
   "execution_count": 1438,
   "metadata": {},
   "outputs": [
    {
     "data": {
      "text/html": [
       "<div>\n",
       "<style scoped>\n",
       "    .dataframe tbody tr th:only-of-type {\n",
       "        vertical-align: middle;\n",
       "    }\n",
       "\n",
       "    .dataframe tbody tr th {\n",
       "        vertical-align: top;\n",
       "    }\n",
       "\n",
       "    .dataframe thead th {\n",
       "        text-align: right;\n",
       "    }\n",
       "</style>\n",
       "<table border=\"1\" class=\"dataframe\">\n",
       "  <thead>\n",
       "    <tr style=\"text-align: right;\">\n",
       "      <th></th>\n",
       "      <th>C/A</th>\n",
       "      <th>UNIT</th>\n",
       "      <th>SCP</th>\n",
       "      <th>STATION</th>\n",
       "      <th>LINENAME</th>\n",
       "      <th>DIVISION</th>\n",
       "      <th>DATE</th>\n",
       "      <th>TIME</th>\n",
       "      <th>DESC</th>\n",
       "      <th>ENTRIES</th>\n",
       "      <th>EXITS</th>\n",
       "      <th>OBSERVED_TIME</th>\n",
       "    </tr>\n",
       "  </thead>\n",
       "  <tbody>\n",
       "    <tr>\n",
       "      <th>0</th>\n",
       "      <td>A002</td>\n",
       "      <td>R051</td>\n",
       "      <td>02-00-00</td>\n",
       "      <td>59 ST</td>\n",
       "      <td>NQR456W</td>\n",
       "      <td>BMT</td>\n",
       "      <td>03/13/2021</td>\n",
       "      <td>03:00:00</td>\n",
       "      <td>REGULAR</td>\n",
       "      <td>7543925</td>\n",
       "      <td>2573549</td>\n",
       "      <td>2021-03-13 03:00:00</td>\n",
       "    </tr>\n",
       "    <tr>\n",
       "      <th>1</th>\n",
       "      <td>A002</td>\n",
       "      <td>R051</td>\n",
       "      <td>02-00-00</td>\n",
       "      <td>59 ST</td>\n",
       "      <td>NQR456W</td>\n",
       "      <td>BMT</td>\n",
       "      <td>03/13/2021</td>\n",
       "      <td>07:00:00</td>\n",
       "      <td>REGULAR</td>\n",
       "      <td>7543931</td>\n",
       "      <td>2573559</td>\n",
       "      <td>2021-03-13 07:00:00</td>\n",
       "    </tr>\n",
       "    <tr>\n",
       "      <th>2</th>\n",
       "      <td>A002</td>\n",
       "      <td>R051</td>\n",
       "      <td>02-00-00</td>\n",
       "      <td>59 ST</td>\n",
       "      <td>NQR456W</td>\n",
       "      <td>BMT</td>\n",
       "      <td>03/13/2021</td>\n",
       "      <td>11:00:00</td>\n",
       "      <td>REGULAR</td>\n",
       "      <td>7543970</td>\n",
       "      <td>2573622</td>\n",
       "      <td>2021-03-13 11:00:00</td>\n",
       "    </tr>\n",
       "    <tr>\n",
       "      <th>3</th>\n",
       "      <td>A002</td>\n",
       "      <td>R051</td>\n",
       "      <td>02-00-00</td>\n",
       "      <td>59 ST</td>\n",
       "      <td>NQR456W</td>\n",
       "      <td>BMT</td>\n",
       "      <td>03/13/2021</td>\n",
       "      <td>15:00:00</td>\n",
       "      <td>REGULAR</td>\n",
       "      <td>7544072</td>\n",
       "      <td>2573700</td>\n",
       "      <td>2021-03-13 15:00:00</td>\n",
       "    </tr>\n",
       "    <tr>\n",
       "      <th>4</th>\n",
       "      <td>A002</td>\n",
       "      <td>R051</td>\n",
       "      <td>02-00-00</td>\n",
       "      <td>59 ST</td>\n",
       "      <td>NQR456W</td>\n",
       "      <td>BMT</td>\n",
       "      <td>03/13/2021</td>\n",
       "      <td>19:00:00</td>\n",
       "      <td>REGULAR</td>\n",
       "      <td>7544219</td>\n",
       "      <td>2573729</td>\n",
       "      <td>2021-03-13 19:00:00</td>\n",
       "    </tr>\n",
       "  </tbody>\n",
       "</table>\n",
       "</div>"
      ],
      "text/plain": [
       "    C/A  UNIT       SCP STATION LINENAME DIVISION        DATE      TIME  \\\n",
       "0  A002  R051  02-00-00   59 ST  NQR456W      BMT  03/13/2021  03:00:00   \n",
       "1  A002  R051  02-00-00   59 ST  NQR456W      BMT  03/13/2021  07:00:00   \n",
       "2  A002  R051  02-00-00   59 ST  NQR456W      BMT  03/13/2021  11:00:00   \n",
       "3  A002  R051  02-00-00   59 ST  NQR456W      BMT  03/13/2021  15:00:00   \n",
       "4  A002  R051  02-00-00   59 ST  NQR456W      BMT  03/13/2021  19:00:00   \n",
       "\n",
       "      DESC  ENTRIES    EXITS       OBSERVED_TIME  \n",
       "0  REGULAR  7543925  2573549 2021-03-13 03:00:00  \n",
       "1  REGULAR  7543931  2573559 2021-03-13 07:00:00  \n",
       "2  REGULAR  7543970  2573622 2021-03-13 11:00:00  \n",
       "3  REGULAR  7544072  2573700 2021-03-13 15:00:00  \n",
       "4  REGULAR  7544219  2573729 2021-03-13 19:00:00  "
      ]
     },
     "execution_count": 1438,
     "metadata": {},
     "output_type": "execute_result"
    }
   ],
   "source": [
    "#create a datetime column\n",
    "df[\"OBSERVED_TIME\"] = pd.to_datetime(df.DATE + \" \" + df.TIME, \n",
    "                                            format=\"%m/%d/%Y %H:%M:%S\")\n",
    "\n",
    "df.head()"
   ]
  },
  {
   "cell_type": "markdown",
   "metadata": {},
   "source": [
    "The following code:\n",
    "1. Inserts an \"ID\" column for unique singular identification of a turnstile"
   ]
  },
  {
   "cell_type": "code",
   "execution_count": 1439,
   "metadata": {},
   "outputs": [
    {
     "data": {
      "text/html": [
       "<div>\n",
       "<style scoped>\n",
       "    .dataframe tbody tr th:only-of-type {\n",
       "        vertical-align: middle;\n",
       "    }\n",
       "\n",
       "    .dataframe tbody tr th {\n",
       "        vertical-align: top;\n",
       "    }\n",
       "\n",
       "    .dataframe thead th {\n",
       "        text-align: right;\n",
       "    }\n",
       "</style>\n",
       "<table border=\"1\" class=\"dataframe\">\n",
       "  <thead>\n",
       "    <tr style=\"text-align: right;\">\n",
       "      <th></th>\n",
       "      <th>ID</th>\n",
       "      <th>C/A</th>\n",
       "      <th>UNIT</th>\n",
       "      <th>SCP</th>\n",
       "      <th>STATION</th>\n",
       "      <th>LINENAME</th>\n",
       "      <th>DIVISION</th>\n",
       "      <th>DATE</th>\n",
       "      <th>TIME</th>\n",
       "      <th>DESC</th>\n",
       "      <th>ENTRIES</th>\n",
       "      <th>EXITS</th>\n",
       "      <th>OBSERVED_TIME</th>\n",
       "    </tr>\n",
       "  </thead>\n",
       "  <tbody>\n",
       "    <tr>\n",
       "      <th>0</th>\n",
       "      <td>A002 R051 02-00-00</td>\n",
       "      <td>A002</td>\n",
       "      <td>R051</td>\n",
       "      <td>02-00-00</td>\n",
       "      <td>59 ST</td>\n",
       "      <td>NQR456W</td>\n",
       "      <td>BMT</td>\n",
       "      <td>03/13/2021</td>\n",
       "      <td>03:00:00</td>\n",
       "      <td>REGULAR</td>\n",
       "      <td>7543925</td>\n",
       "      <td>2573549</td>\n",
       "      <td>2021-03-13 03:00:00</td>\n",
       "    </tr>\n",
       "    <tr>\n",
       "      <th>1</th>\n",
       "      <td>A002 R051 02-00-00</td>\n",
       "      <td>A002</td>\n",
       "      <td>R051</td>\n",
       "      <td>02-00-00</td>\n",
       "      <td>59 ST</td>\n",
       "      <td>NQR456W</td>\n",
       "      <td>BMT</td>\n",
       "      <td>03/13/2021</td>\n",
       "      <td>07:00:00</td>\n",
       "      <td>REGULAR</td>\n",
       "      <td>7543931</td>\n",
       "      <td>2573559</td>\n",
       "      <td>2021-03-13 07:00:00</td>\n",
       "    </tr>\n",
       "    <tr>\n",
       "      <th>2</th>\n",
       "      <td>A002 R051 02-00-00</td>\n",
       "      <td>A002</td>\n",
       "      <td>R051</td>\n",
       "      <td>02-00-00</td>\n",
       "      <td>59 ST</td>\n",
       "      <td>NQR456W</td>\n",
       "      <td>BMT</td>\n",
       "      <td>03/13/2021</td>\n",
       "      <td>11:00:00</td>\n",
       "      <td>REGULAR</td>\n",
       "      <td>7543970</td>\n",
       "      <td>2573622</td>\n",
       "      <td>2021-03-13 11:00:00</td>\n",
       "    </tr>\n",
       "    <tr>\n",
       "      <th>3</th>\n",
       "      <td>A002 R051 02-00-00</td>\n",
       "      <td>A002</td>\n",
       "      <td>R051</td>\n",
       "      <td>02-00-00</td>\n",
       "      <td>59 ST</td>\n",
       "      <td>NQR456W</td>\n",
       "      <td>BMT</td>\n",
       "      <td>03/13/2021</td>\n",
       "      <td>15:00:00</td>\n",
       "      <td>REGULAR</td>\n",
       "      <td>7544072</td>\n",
       "      <td>2573700</td>\n",
       "      <td>2021-03-13 15:00:00</td>\n",
       "    </tr>\n",
       "    <tr>\n",
       "      <th>4</th>\n",
       "      <td>A002 R051 02-00-00</td>\n",
       "      <td>A002</td>\n",
       "      <td>R051</td>\n",
       "      <td>02-00-00</td>\n",
       "      <td>59 ST</td>\n",
       "      <td>NQR456W</td>\n",
       "      <td>BMT</td>\n",
       "      <td>03/13/2021</td>\n",
       "      <td>19:00:00</td>\n",
       "      <td>REGULAR</td>\n",
       "      <td>7544219</td>\n",
       "      <td>2573729</td>\n",
       "      <td>2021-03-13 19:00:00</td>\n",
       "    </tr>\n",
       "  </tbody>\n",
       "</table>\n",
       "</div>"
      ],
      "text/plain": [
       "                   ID   C/A  UNIT       SCP STATION LINENAME DIVISION  \\\n",
       "0  A002 R051 02-00-00  A002  R051  02-00-00   59 ST  NQR456W      BMT   \n",
       "1  A002 R051 02-00-00  A002  R051  02-00-00   59 ST  NQR456W      BMT   \n",
       "2  A002 R051 02-00-00  A002  R051  02-00-00   59 ST  NQR456W      BMT   \n",
       "3  A002 R051 02-00-00  A002  R051  02-00-00   59 ST  NQR456W      BMT   \n",
       "4  A002 R051 02-00-00  A002  R051  02-00-00   59 ST  NQR456W      BMT   \n",
       "\n",
       "         DATE      TIME     DESC  ENTRIES    EXITS       OBSERVED_TIME  \n",
       "0  03/13/2021  03:00:00  REGULAR  7543925  2573549 2021-03-13 03:00:00  \n",
       "1  03/13/2021  07:00:00  REGULAR  7543931  2573559 2021-03-13 07:00:00  \n",
       "2  03/13/2021  11:00:00  REGULAR  7543970  2573622 2021-03-13 11:00:00  \n",
       "3  03/13/2021  15:00:00  REGULAR  7544072  2573700 2021-03-13 15:00:00  \n",
       "4  03/13/2021  19:00:00  REGULAR  7544219  2573729 2021-03-13 19:00:00  "
      ]
     },
     "execution_count": 1439,
     "metadata": {},
     "output_type": "execute_result"
    }
   ],
   "source": [
    "ind_turnstile=df['C/A']+ ' '+df['UNIT']+ ' '+ df['SCP']\n",
    "\n",
    "df.insert(0, 'ID', ind_turnstile)\n",
    "\n",
    "df.head()"
   ]
  },
  {
   "cell_type": "markdown",
   "metadata": {},
   "source": [
    "The following code:\n",
    "1. Drops Recovery Audit entries for cleaner dataset, after which there are 206295 rows remaining in the dataframe"
   ]
  },
  {
   "cell_type": "code",
   "execution_count": 1440,
   "metadata": {},
   "outputs": [],
   "source": [
    "df.drop(df.loc[df['DESC']=='RECOVR AUD'].index, inplace=True)\n",
    "#206295 ROWS AFTER DROPPING RECOVERY AUDITS\n",
    "# df.info()"
   ]
  },
  {
   "cell_type": "markdown",
   "metadata": {},
   "source": [
    "The following code:\n",
    "1. Creates a new data frame that left merged the MTA turnstiles df with our complex ids data set, which ultimately adds the following variables to our MTA turnstiles:\n",
    "    * complex_id\n",
    "    * alternative station name found from complex id data set\n",
    "    * drops alternative Station and Line Names\n",
    "    * relabels STATION and LINENAME to original names\n",
    "\n",
    "Our dataset still has 206295 rows.\n",
    " "
   ]
  },
  {
   "cell_type": "code",
   "execution_count": 1441,
   "metadata": {},
   "outputs": [
    {
     "data": {
      "text/html": [
       "<div>\n",
       "<style scoped>\n",
       "    .dataframe tbody tr th:only-of-type {\n",
       "        vertical-align: middle;\n",
       "    }\n",
       "\n",
       "    .dataframe tbody tr th {\n",
       "        vertical-align: top;\n",
       "    }\n",
       "\n",
       "    .dataframe thead th {\n",
       "        text-align: right;\n",
       "    }\n",
       "</style>\n",
       "<table border=\"1\" class=\"dataframe\">\n",
       "  <thead>\n",
       "    <tr style=\"text-align: right;\">\n",
       "      <th></th>\n",
       "      <th>ID</th>\n",
       "      <th>C/A</th>\n",
       "      <th>UNIT</th>\n",
       "      <th>SCP</th>\n",
       "      <th>STATION</th>\n",
       "      <th>LINENAME</th>\n",
       "      <th>DIVISION</th>\n",
       "      <th>DATE</th>\n",
       "      <th>TIME</th>\n",
       "      <th>DESC</th>\n",
       "      <th>ENTRIES</th>\n",
       "      <th>EXITS</th>\n",
       "      <th>OBSERVED_TIME</th>\n",
       "      <th>COMPLEX_ID</th>\n",
       "    </tr>\n",
       "  </thead>\n",
       "  <tbody>\n",
       "    <tr>\n",
       "      <th>0</th>\n",
       "      <td>A002 R051 02-00-00</td>\n",
       "      <td>A002</td>\n",
       "      <td>R051</td>\n",
       "      <td>02-00-00</td>\n",
       "      <td>59 ST</td>\n",
       "      <td>NQR456W</td>\n",
       "      <td>BMT</td>\n",
       "      <td>03/13/2021</td>\n",
       "      <td>03:00:00</td>\n",
       "      <td>REGULAR</td>\n",
       "      <td>7543925</td>\n",
       "      <td>2573549</td>\n",
       "      <td>2021-03-13 03:00:00</td>\n",
       "      <td>613.0</td>\n",
       "    </tr>\n",
       "    <tr>\n",
       "      <th>1</th>\n",
       "      <td>A002 R051 02-00-00</td>\n",
       "      <td>A002</td>\n",
       "      <td>R051</td>\n",
       "      <td>02-00-00</td>\n",
       "      <td>59 ST</td>\n",
       "      <td>NQR456W</td>\n",
       "      <td>BMT</td>\n",
       "      <td>03/13/2021</td>\n",
       "      <td>07:00:00</td>\n",
       "      <td>REGULAR</td>\n",
       "      <td>7543931</td>\n",
       "      <td>2573559</td>\n",
       "      <td>2021-03-13 07:00:00</td>\n",
       "      <td>613.0</td>\n",
       "    </tr>\n",
       "    <tr>\n",
       "      <th>2</th>\n",
       "      <td>A002 R051 02-00-00</td>\n",
       "      <td>A002</td>\n",
       "      <td>R051</td>\n",
       "      <td>02-00-00</td>\n",
       "      <td>59 ST</td>\n",
       "      <td>NQR456W</td>\n",
       "      <td>BMT</td>\n",
       "      <td>03/13/2021</td>\n",
       "      <td>11:00:00</td>\n",
       "      <td>REGULAR</td>\n",
       "      <td>7543970</td>\n",
       "      <td>2573622</td>\n",
       "      <td>2021-03-13 11:00:00</td>\n",
       "      <td>613.0</td>\n",
       "    </tr>\n",
       "    <tr>\n",
       "      <th>3</th>\n",
       "      <td>A002 R051 02-00-00</td>\n",
       "      <td>A002</td>\n",
       "      <td>R051</td>\n",
       "      <td>02-00-00</td>\n",
       "      <td>59 ST</td>\n",
       "      <td>NQR456W</td>\n",
       "      <td>BMT</td>\n",
       "      <td>03/13/2021</td>\n",
       "      <td>15:00:00</td>\n",
       "      <td>REGULAR</td>\n",
       "      <td>7544072</td>\n",
       "      <td>2573700</td>\n",
       "      <td>2021-03-13 15:00:00</td>\n",
       "      <td>613.0</td>\n",
       "    </tr>\n",
       "    <tr>\n",
       "      <th>4</th>\n",
       "      <td>A002 R051 02-00-00</td>\n",
       "      <td>A002</td>\n",
       "      <td>R051</td>\n",
       "      <td>02-00-00</td>\n",
       "      <td>59 ST</td>\n",
       "      <td>NQR456W</td>\n",
       "      <td>BMT</td>\n",
       "      <td>03/13/2021</td>\n",
       "      <td>19:00:00</td>\n",
       "      <td>REGULAR</td>\n",
       "      <td>7544219</td>\n",
       "      <td>2573729</td>\n",
       "      <td>2021-03-13 19:00:00</td>\n",
       "      <td>613.0</td>\n",
       "    </tr>\n",
       "  </tbody>\n",
       "</table>\n",
       "</div>"
      ],
      "text/plain": [
       "                   ID   C/A  UNIT       SCP STATION LINENAME DIVISION  \\\n",
       "0  A002 R051 02-00-00  A002  R051  02-00-00   59 ST  NQR456W      BMT   \n",
       "1  A002 R051 02-00-00  A002  R051  02-00-00   59 ST  NQR456W      BMT   \n",
       "2  A002 R051 02-00-00  A002  R051  02-00-00   59 ST  NQR456W      BMT   \n",
       "3  A002 R051 02-00-00  A002  R051  02-00-00   59 ST  NQR456W      BMT   \n",
       "4  A002 R051 02-00-00  A002  R051  02-00-00   59 ST  NQR456W      BMT   \n",
       "\n",
       "         DATE      TIME     DESC  ENTRIES    EXITS       OBSERVED_TIME  \\\n",
       "0  03/13/2021  03:00:00  REGULAR  7543925  2573549 2021-03-13 03:00:00   \n",
       "1  03/13/2021  07:00:00  REGULAR  7543931  2573559 2021-03-13 07:00:00   \n",
       "2  03/13/2021  11:00:00  REGULAR  7543970  2573622 2021-03-13 11:00:00   \n",
       "3  03/13/2021  15:00:00  REGULAR  7544072  2573700 2021-03-13 15:00:00   \n",
       "4  03/13/2021  19:00:00  REGULAR  7544219  2573729 2021-03-13 19:00:00   \n",
       "\n",
       "   COMPLEX_ID  \n",
       "0       613.0  \n",
       "1       613.0  \n",
       "2       613.0  \n",
       "3       613.0  \n",
       "4       613.0  "
      ]
     },
     "execution_count": 1441,
     "metadata": {},
     "output_type": "execute_result"
    }
   ],
   "source": [
    "#new df with complex ids added to MTA data\n",
    "Pre_ADA_df=pd.merge(df,complex_ids, on=['UNIT','C/A','DIVISION'], how='left')\n",
    "#still has 206295 entries\n",
    "# Pre_ADA_df.info()\n",
    "\n",
    "#drop new station and line name columns\n",
    "Pre_ADA_df.drop(['STATION_y', 'LINENAME_y'], axis=1, inplace=True)\n",
    "\n",
    "#rename columns back to station and linename\n",
    "Pre_ADA_df.rename({'STATION_x':'STATION','LINENAME_x':'LINENAME'}, axis=1, inplace=True)\n",
    "# Pre_ADA_df.info()\n",
    "Pre_ADA_df.head()"
   ]
  },
  {
   "cell_type": "markdown",
   "metadata": {},
   "source": [
    "The following code:\n",
    "1. Imports the ADA information dataset \n",
    "2. Renames Complex ID column to match our other dataframe"
   ]
  },
  {
   "cell_type": "code",
   "execution_count": 1442,
   "metadata": {},
   "outputs": [],
   "source": [
    "ADA=pd.read_csv('http://web.mta.info/developers/data/nyct/subway/Stations.csv')\n",
    "ADA.rename({'Complex ID': 'COMPLEX_ID', 'Division':'DIVISION'},inplace=True,axis=1)"
   ]
  },
  {
   "cell_type": "markdown",
   "metadata": {},
   "source": [
    "### WHY ARE THERE SO MANY MORE ROWS EVEN WHEN I DID A LEFT JOIN?!\n",
    "###### It was found that there was an increase in rows when merging ADA and MTA df so we are investigating in the following code. It seems the ADA dataset uses the same several (51) complex IDs multiple times, which leads to the merge creating a new row for every time a copmlex ID is used in the ADA df. We will sort this by investigating why complex IDs are used multiple times, and by sifting them down to a single complex id/or by combining the information provided."
   ]
  },
  {
   "cell_type": "code",
   "execution_count": 1443,
   "metadata": {},
   "outputs": [
    {
     "data": {
      "text/plain": [
       "445"
      ]
     },
     "execution_count": 1443,
     "metadata": {},
     "output_type": "execute_result"
    }
   ],
   "source": [
    "ADA.COMPLEX_ID.nunique()\n",
    "# ADA.info()\n",
    "\n",
    "#445 unique values versus 496 entries in the dataframe = 51 times certain complex ids are being reused."
   ]
  },
  {
   "cell_type": "code",
   "execution_count": 1444,
   "metadata": {},
   "outputs": [],
   "source": [
    "# ADA.COMPLEX_ID.describe()"
   ]
  },
  {
   "cell_type": "markdown",
   "metadata": {},
   "source": [
    "We will drop/change certain values from our ADA set below according to later investigation underneath."
   ]
  },
  {
   "cell_type": "code",
   "execution_count": 1445,
   "metadata": {},
   "outputs": [],
   "source": [
    "ADA.drop(162,axis=0, inplace=True)\n",
    "ADA.drop(468,axis=0, inplace=True)\n",
    "ADA.drop(469,axis=0, inplace=True)\n",
    "\n",
    "\n",
    "ADA.drop(412,axis=0, inplace=True)\n",
    "ADA.drop(171,axis=0, inplace=True)\n",
    "ADA.drop(17,axis=0, inplace=True)\n",
    "ADA.drop(103,axis=0, inplace=True)\n",
    "\n",
    "ADA.drop(466,axis=0, inplace=True)\n",
    "ADA.drop(470,axis=0, inplace=True)\n",
    "\n",
    "ADA.drop(274,axis=0, inplace=True)\n",
    "ADA.drop(116,axis=0, inplace=True)\n",
    "\n",
    "ADA.drop(335,axis=0, inplace=True)\n",
    "\n",
    "ADA.drop(91,axis=0, inplace=True)\n",
    "ADA.drop(23,axis=0, inplace=True)\n",
    "ADA.drop(26,axis=0, inplace=True)\n",
    "ADA.drop(149,axis=0, inplace=True)\n",
    "\n",
    "ADA.drop(166,axis=0, inplace=True)\n",
    "\n",
    "ADA.drop(435,axis=0, inplace=True)\n",
    "ADA.drop(111,axis=0, inplace=True)\n",
    "ADA.drop(72,axis=0, inplace=True)\n"
   ]
  },
  {
   "cell_type": "markdown",
   "metadata": {},
   "source": [
    "This finds us the complex IDs used multiple times:"
   ]
  },
  {
   "cell_type": "code",
   "execution_count": 1446,
   "metadata": {},
   "outputs": [],
   "source": [
    "# ADA.groupby(['COMPLEX_ID']).size().sort_values(ascending=False).head(10)"
   ]
  },
  {
   "cell_type": "markdown",
   "metadata": {},
   "source": [
    "This creates a list of data frames with the complex ids found to be used multiple times."
   ]
  },
  {
   "cell_type": "code",
   "execution_count": 1447,
   "metadata": {},
   "outputs": [],
   "source": [
    "dup_complexes=[611,628, 624,623,610,606,601,602,621,620,617,609,608,607,636,605,635,151,167,603,604,612,622,630,629,627,613,626,625,461,614, 618,615,616,619]\n",
    "\n",
    "\n",
    "dup_complexes_rows=[]\n",
    "\n",
    "for num in dup_complexes:\n",
    "    dup_complexes_rows.append(ADA.loc[ADA['COMPLEX_ID'] == num])"
   ]
  },
  {
   "cell_type": "code",
   "execution_count": 1448,
   "metadata": {},
   "outputs": [],
   "source": [
    "# Pre_ADA_df.loc[Pre_ADA_df['COMPLEX_ID'] == 617]"
   ]
  },
  {
   "cell_type": "code",
   "execution_count": 1449,
   "metadata": {},
   "outputs": [],
   "source": [
    "# Pre_ADA_df.loc[Pre_ADA_df['COMPLEX_ID'] == 620].groupby(['STATION']).size()"
   ]
  },
  {
   "cell_type": "code",
   "execution_count": 1450,
   "metadata": {},
   "outputs": [],
   "source": [
    "# dup_complexes_rows[9]"
   ]
  },
  {
   "cell_type": "markdown",
   "metadata": {},
   "source": [
    "### Now that we have removed duplicated complex_id information by sifting throguh duplicates, we will also join on division to further nuance the data. Now we can see we have 206295 entries as expected."
   ]
  },
  {
   "cell_type": "markdown",
   "metadata": {},
   "source": [
    "The following code:\n",
    "\n",
    "1. Creates a final working dataset with several variables by combing MTA Data set with ADA dataset via complex ID\n",
    "\n",
    "**Now our final dataset to work with and further clean will be ADA_df.**\n",
    "\n"
   ]
  },
  {
   "cell_type": "code",
   "execution_count": 1451,
   "metadata": {},
   "outputs": [],
   "source": [
    "ADA_df=pd.merge(Pre_ADA_df, ADA, how='left', on=['COMPLEX_ID', 'DIVISION'])\n",
    "\n",
    "# ADA_df.info()"
   ]
  },
  {
   "cell_type": "markdown",
   "metadata": {},
   "source": [
    "The following code:\n",
    "1. Removes unecessary columns. "
   ]
  },
  {
   "cell_type": "code",
   "execution_count": 1452,
   "metadata": {},
   "outputs": [],
   "source": [
    "ADA_df.drop(['DESC','Borough','Daytime Routes','Structure', 'Line','GTFS Stop ID'],axis=1,inplace=True)"
   ]
  },
  {
   "cell_type": "code",
   "execution_count": 1453,
   "metadata": {},
   "outputs": [],
   "source": [
    "# ADA_df.info()"
   ]
  },
  {
   "cell_type": "markdown",
   "metadata": {},
   "source": [
    "The following code will:\n",
    "1. Group the rows by turnstile and calculate the actual number of exits and entries."
   ]
  },
  {
   "cell_type": "code",
   "execution_count": 1454,
   "metadata": {},
   "outputs": [],
   "source": [
    "ADA_df['ACTUALENTRIES']=ADA_df.groupby(['ID']).ENTRIES.diff()\n",
    "ADA_df['ACTUALEXITS']=ADA_df.groupby(['ID']).EXITS.diff()\n",
    "\n",
    "# ADA_df.info()"
   ]
  },
  {
   "cell_type": "markdown",
   "metadata": {},
   "source": [
    "The following code will:\n",
    "1. Begin the cleaning process by clearing out entries from hourset 1 of data collection (because these values will not be helpful to us as it is simply the cumulative number of entries and exits).\n",
    "2. Will absolute value all actual exits and entries values to account for counters that may have counted backwards instead of up.\n",
    "3. Remove any rows with actual entry and exit values larger than 10,000, as these will likely be entries where the counter reset and are not the actual numbers. \n",
    "4. Finally, remove the original Entries and Exits Columns and rename the actual entries and exits to ENTRIES & EXITS respectively."
   ]
  },
  {
   "cell_type": "code",
   "execution_count": 1455,
   "metadata": {},
   "outputs": [],
   "source": [
    "#1.\n",
    "ADA_df.dropna(axis=0,subset=['ACTUALENTRIES'],inplace=True)\n",
    "ADA_df.dropna(axis=0,subset=['ACTUALEXITS'],inplace=True)\n",
    "# ADA_df.info()"
   ]
  },
  {
   "cell_type": "code",
   "execution_count": 1456,
   "metadata": {},
   "outputs": [],
   "source": [
    "#2.\n",
    "ADA_df.ACTUALENTRIES=ADA_df.ACTUALENTRIES.abs()\n",
    "ADA_df.ACTUALEXITS=ADA_df.ACTUALEXITS.abs()\n",
    "# ADA_df.ACTUALEXITS.describe()\n"
   ]
  },
  {
   "cell_type": "code",
   "execution_count": 1457,
   "metadata": {},
   "outputs": [],
   "source": [
    "#3.\n",
    "ADA_df.drop(ADA_df[ADA_df.ACTUALENTRIES >1007].index, inplace=True)\n",
    "ADA_df.drop(ADA_df[ADA_df.ACTUALEXITS >2225].index, inplace=True)"
   ]
  },
  {
   "cell_type": "markdown",
   "metadata": {},
   "source": [
    "The following comments show code used to sort through high values to check for counter reset to set above drop value conditionals."
   ]
  },
  {
   "cell_type": "code",
   "execution_count": 1458,
   "metadata": {},
   "outputs": [],
   "source": [
    "# ADA_df_TESTER=ADA_df.copy()\n",
    "\n",
    "# ADA_df_TESTER.drop(ADA_df_TESTER[ADA_df_TESTER.ACTUALENTRIES >1007].index, inplace=True)\n",
    "# ADA_df_TESTER.drop(ADA_df_TESTER[ADA_df_TESTER.ACTUALEXITS >2225].index, inplace=True)\n",
    "# ADA_df_TESTER.ACTUALEXITS.describe()\n",
    "# # ADA_df_TESTER.info()\n",
    "# # df.drop(df[df.score < 50].index, inplace=True)"
   ]
  },
  {
   "cell_type": "code",
   "execution_count": 1459,
   "metadata": {},
   "outputs": [],
   "source": [
    "#4. \n",
    "ADA_df.drop(['ENTRIES'],axis=1,inplace=True)\n",
    "ADA_df.drop(['EXITS'],axis=1,inplace=True)"
   ]
  },
  {
   "cell_type": "code",
   "execution_count": 1460,
   "metadata": {},
   "outputs": [],
   "source": [
    "ADA_df.rename({\"ACTUALENTRIES\":'ENTRIES',\"ACTUALEXITS\":\"EXITS\"},axis=1, inplace=True)\n",
    "# ADA_df.info()"
   ]
  },
  {
   "cell_type": "markdown",
   "metadata": {},
   "source": [
    "## Now analysis and plotting\n",
    "\n",
    "The following code:\n",
    "1. Creates a new column called \"ACTIVITY\" that is a sum of entries and exits as a metric for general traffic over time period in that area. \n",
    "2. Runs an initial analysis on 59 ST station activity data for week one.  (This will result in guidelines for what time is best to travel through this station.\n",
    "3. Plots the data points for 59 ST Data.\n"
   ]
  },
  {
   "cell_type": "code",
   "execution_count": 1479,
   "metadata": {},
   "outputs": [],
   "source": [
    "#1.\n",
    "ADA_df['ACTIVITY']= ADA_df.ENTRIES + ADA_df.EXITS"
   ]
  },
  {
   "cell_type": "code",
   "execution_count": null,
   "metadata": {},
   "outputs": [],
   "source": []
  },
  {
   "cell_type": "code",
   "execution_count": 1506,
   "metadata": {},
   "outputs": [],
   "source": [
    "#create a df for just 59 ST station data\n",
    "station_59_st= ADA_df[ADA_df['STATION']=='59 ST']\n",
    "# station_59_st=station_59_st[station_59_st['DATE']=='03/15/2021']\n",
    "# station_59_st.info()"
   ]
  },
  {
   "cell_type": "code",
   "execution_count": null,
   "metadata": {},
   "outputs": [],
   "source": []
  },
  {
   "cell_type": "code",
   "execution_count": 1507,
   "metadata": {},
   "outputs": [
    {
     "data": {
      "text/html": [
       "<div>\n",
       "<style scoped>\n",
       "    .dataframe tbody tr th:only-of-type {\n",
       "        vertical-align: middle;\n",
       "    }\n",
       "\n",
       "    .dataframe tbody tr th {\n",
       "        vertical-align: top;\n",
       "    }\n",
       "\n",
       "    .dataframe thead th {\n",
       "        text-align: right;\n",
       "    }\n",
       "</style>\n",
       "<table border=\"1\" class=\"dataframe\">\n",
       "  <thead>\n",
       "    <tr style=\"text-align: right;\">\n",
       "      <th></th>\n",
       "      <th>ENTRIES</th>\n",
       "      <th>EXITS</th>\n",
       "      <th>ACTIVITY</th>\n",
       "    </tr>\n",
       "  </thead>\n",
       "  <tbody>\n",
       "    <tr>\n",
       "      <th>count</th>\n",
       "      <td>2209.0</td>\n",
       "      <td>2209.0</td>\n",
       "      <td>2209.0</td>\n",
       "    </tr>\n",
       "    <tr>\n",
       "      <th>mean</th>\n",
       "      <td>56.0</td>\n",
       "      <td>65.0</td>\n",
       "      <td>121.0</td>\n",
       "    </tr>\n",
       "    <tr>\n",
       "      <th>std</th>\n",
       "      <td>77.0</td>\n",
       "      <td>82.0</td>\n",
       "      <td>123.0</td>\n",
       "    </tr>\n",
       "    <tr>\n",
       "      <th>min</th>\n",
       "      <td>0.0</td>\n",
       "      <td>0.0</td>\n",
       "      <td>0.0</td>\n",
       "    </tr>\n",
       "    <tr>\n",
       "      <th>25%</th>\n",
       "      <td>3.0</td>\n",
       "      <td>9.0</td>\n",
       "      <td>21.0</td>\n",
       "    </tr>\n",
       "    <tr>\n",
       "      <th>50%</th>\n",
       "      <td>25.0</td>\n",
       "      <td>35.0</td>\n",
       "      <td>83.0</td>\n",
       "    </tr>\n",
       "    <tr>\n",
       "      <th>75%</th>\n",
       "      <td>78.0</td>\n",
       "      <td>96.0</td>\n",
       "      <td>190.0</td>\n",
       "    </tr>\n",
       "    <tr>\n",
       "      <th>max</th>\n",
       "      <td>713.0</td>\n",
       "      <td>695.0</td>\n",
       "      <td>791.0</td>\n",
       "    </tr>\n",
       "  </tbody>\n",
       "</table>\n",
       "</div>"
      ],
      "text/plain": [
       "       ENTRIES   EXITS  ACTIVITY\n",
       "count   2209.0  2209.0    2209.0\n",
       "mean      56.0    65.0     121.0\n",
       "std       77.0    82.0     123.0\n",
       "min        0.0     0.0       0.0\n",
       "25%        3.0     9.0      21.0\n",
       "50%       25.0    35.0      83.0\n",
       "75%       78.0    96.0     190.0\n",
       "max      713.0   695.0     791.0"
      ]
     },
     "execution_count": 1507,
     "metadata": {},
     "output_type": "execute_result"
    }
   ],
   "source": [
    "#2. \n",
    "station_59_st[['ENTRIES','EXITS','ACTIVITY']].describe().round()"
   ]
  },
  {
   "cell_type": "markdown",
   "metadata": {},
   "source": [
    "As we can see from the above analysis on numbers, the average number of transit riders on in a four hour period in the 59 ST Station is 121. Now we will see what the lowest activity traffic hours are for this station by grouping by time.\n"
   ]
  },
  {
   "cell_type": "code",
   "execution_count": null,
   "metadata": {},
   "outputs": [],
   "source": []
  },
  {
   "cell_type": "code",
   "execution_count": 1508,
   "metadata": {},
   "outputs": [
    {
     "data": {
      "text/html": [
       "<div>\n",
       "<style scoped>\n",
       "    .dataframe tbody tr th:only-of-type {\n",
       "        vertical-align: middle;\n",
       "    }\n",
       "\n",
       "    .dataframe tbody tr th {\n",
       "        vertical-align: top;\n",
       "    }\n",
       "\n",
       "    .dataframe thead th {\n",
       "        text-align: right;\n",
       "    }\n",
       "</style>\n",
       "<table border=\"1\" class=\"dataframe\">\n",
       "  <thead>\n",
       "    <tr style=\"text-align: right;\">\n",
       "      <th></th>\n",
       "      <th>COMPLEX_ID</th>\n",
       "      <th>Station ID</th>\n",
       "      <th>GTFS Latitude</th>\n",
       "      <th>GTFS Longitude</th>\n",
       "      <th>ADA</th>\n",
       "      <th>ENTRIES</th>\n",
       "      <th>EXITS</th>\n",
       "      <th>ACTIVITY</th>\n",
       "    </tr>\n",
       "    <tr>\n",
       "      <th>OBSERVED_TIME</th>\n",
       "      <th></th>\n",
       "      <th></th>\n",
       "      <th></th>\n",
       "      <th></th>\n",
       "      <th></th>\n",
       "      <th></th>\n",
       "      <th></th>\n",
       "      <th></th>\n",
       "    </tr>\n",
       "  </thead>\n",
       "  <tbody>\n",
       "    <tr>\n",
       "      <th>4</th>\n",
       "      <td>479.0</td>\n",
       "      <td>239.0</td>\n",
       "      <td>41.0</td>\n",
       "      <td>-74.0</td>\n",
       "      <td>0.0</td>\n",
       "      <td>4.0</td>\n",
       "      <td>6.0</td>\n",
       "      <td>10.0</td>\n",
       "    </tr>\n",
       "    <tr>\n",
       "      <th>7</th>\n",
       "      <td>489.0</td>\n",
       "      <td>238.0</td>\n",
       "      <td>41.0</td>\n",
       "      <td>-74.0</td>\n",
       "      <td>0.0</td>\n",
       "      <td>9.0</td>\n",
       "      <td>14.0</td>\n",
       "      <td>22.0</td>\n",
       "    </tr>\n",
       "    <tr>\n",
       "      <th>0</th>\n",
       "      <td>476.0</td>\n",
       "      <td>240.0</td>\n",
       "      <td>41.0</td>\n",
       "      <td>-74.0</td>\n",
       "      <td>0.0</td>\n",
       "      <td>32.0</td>\n",
       "      <td>26.0</td>\n",
       "      <td>58.0</td>\n",
       "    </tr>\n",
       "    <tr>\n",
       "      <th>23</th>\n",
       "      <td>489.0</td>\n",
       "      <td>238.0</td>\n",
       "      <td>41.0</td>\n",
       "      <td>-74.0</td>\n",
       "      <td>0.0</td>\n",
       "      <td>37.0</td>\n",
       "      <td>32.0</td>\n",
       "      <td>69.0</td>\n",
       "    </tr>\n",
       "    <tr>\n",
       "      <th>9</th>\n",
       "      <td>613.0</td>\n",
       "      <td>400.0</td>\n",
       "      <td>41.0</td>\n",
       "      <td>-74.0</td>\n",
       "      <td>0.0</td>\n",
       "      <td>10.0</td>\n",
       "      <td>71.0</td>\n",
       "      <td>81.0</td>\n",
       "    </tr>\n",
       "    <tr>\n",
       "      <th>11</th>\n",
       "      <td>489.0</td>\n",
       "      <td>238.0</td>\n",
       "      <td>41.0</td>\n",
       "      <td>-74.0</td>\n",
       "      <td>0.0</td>\n",
       "      <td>35.0</td>\n",
       "      <td>64.0</td>\n",
       "      <td>99.0</td>\n",
       "    </tr>\n",
       "    <tr>\n",
       "      <th>8</th>\n",
       "      <td>489.0</td>\n",
       "      <td>238.0</td>\n",
       "      <td>41.0</td>\n",
       "      <td>-74.0</td>\n",
       "      <td>0.0</td>\n",
       "      <td>33.0</td>\n",
       "      <td>67.0</td>\n",
       "      <td>100.0</td>\n",
       "    </tr>\n",
       "    <tr>\n",
       "      <th>15</th>\n",
       "      <td>489.0</td>\n",
       "      <td>238.0</td>\n",
       "      <td>41.0</td>\n",
       "      <td>-74.0</td>\n",
       "      <td>0.0</td>\n",
       "      <td>56.0</td>\n",
       "      <td>79.0</td>\n",
       "      <td>136.0</td>\n",
       "    </tr>\n",
       "    <tr>\n",
       "      <th>19</th>\n",
       "      <td>489.0</td>\n",
       "      <td>238.0</td>\n",
       "      <td>41.0</td>\n",
       "      <td>-74.0</td>\n",
       "      <td>0.0</td>\n",
       "      <td>79.0</td>\n",
       "      <td>75.0</td>\n",
       "      <td>154.0</td>\n",
       "    </tr>\n",
       "    <tr>\n",
       "      <th>16</th>\n",
       "      <td>485.0</td>\n",
       "      <td>232.0</td>\n",
       "      <td>41.0</td>\n",
       "      <td>-74.0</td>\n",
       "      <td>0.0</td>\n",
       "      <td>88.0</td>\n",
       "      <td>86.0</td>\n",
       "      <td>174.0</td>\n",
       "    </tr>\n",
       "    <tr>\n",
       "      <th>12</th>\n",
       "      <td>489.0</td>\n",
       "      <td>238.0</td>\n",
       "      <td>41.0</td>\n",
       "      <td>-74.0</td>\n",
       "      <td>0.0</td>\n",
       "      <td>51.0</td>\n",
       "      <td>124.0</td>\n",
       "      <td>175.0</td>\n",
       "    </tr>\n",
       "    <tr>\n",
       "      <th>20</th>\n",
       "      <td>489.0</td>\n",
       "      <td>238.0</td>\n",
       "      <td>41.0</td>\n",
       "      <td>-74.0</td>\n",
       "      <td>0.0</td>\n",
       "      <td>133.0</td>\n",
       "      <td>78.0</td>\n",
       "      <td>212.0</td>\n",
       "    </tr>\n",
       "  </tbody>\n",
       "</table>\n",
       "</div>"
      ],
      "text/plain": [
       "               COMPLEX_ID  Station ID  GTFS Latitude  GTFS Longitude  ADA  \\\n",
       "OBSERVED_TIME                                                               \n",
       "4                   479.0       239.0           41.0           -74.0  0.0   \n",
       "7                   489.0       238.0           41.0           -74.0  0.0   \n",
       "0                   476.0       240.0           41.0           -74.0  0.0   \n",
       "23                  489.0       238.0           41.0           -74.0  0.0   \n",
       "9                   613.0       400.0           41.0           -74.0  0.0   \n",
       "11                  489.0       238.0           41.0           -74.0  0.0   \n",
       "8                   489.0       238.0           41.0           -74.0  0.0   \n",
       "15                  489.0       238.0           41.0           -74.0  0.0   \n",
       "19                  489.0       238.0           41.0           -74.0  0.0   \n",
       "16                  485.0       232.0           41.0           -74.0  0.0   \n",
       "12                  489.0       238.0           41.0           -74.0  0.0   \n",
       "20                  489.0       238.0           41.0           -74.0  0.0   \n",
       "\n",
       "               ENTRIES  EXITS  ACTIVITY  \n",
       "OBSERVED_TIME                            \n",
       "4                  4.0    6.0      10.0  \n",
       "7                  9.0   14.0      22.0  \n",
       "0                 32.0   26.0      58.0  \n",
       "23                37.0   32.0      69.0  \n",
       "9                 10.0   71.0      81.0  \n",
       "11                35.0   64.0      99.0  \n",
       "8                 33.0   67.0     100.0  \n",
       "15                56.0   79.0     136.0  \n",
       "19                79.0   75.0     154.0  \n",
       "16                88.0   86.0     174.0  \n",
       "12                51.0  124.0     175.0  \n",
       "20               133.0   78.0     212.0  "
      ]
     },
     "execution_count": 1508,
     "metadata": {},
     "output_type": "execute_result"
    }
   ],
   "source": [
    "station_59_st.groupby(station_59_st.OBSERVED_TIME.dt.hour).mean().round().sort_values(by='ACTIVITY')"
   ]
  },
  {
   "cell_type": "markdown",
   "metadata": {},
   "source": [
    "The above lists in order the lowest traffic four hour period (starting time indicated by hour number under OBSERVED_TIME column) to the highest traffic periods. A client may observe such indicators by station to plan how they might travel depending on traffic levels through the day. "
   ]
  },
  {
   "cell_type": "code",
   "execution_count": 1509,
   "metadata": {},
   "outputs": [],
   "source": [
    "means_59_st=station_59_st.groupby(station_59_st.OBSERVED_TIME.dt.hour).mean().round().reset_index()"
   ]
  },
  {
   "cell_type": "code",
   "execution_count": 1521,
   "metadata": {},
   "outputs": [
    {
     "data": {
      "text/plain": [
       "<Figure size 432x288 with 0 Axes>"
      ]
     },
     "metadata": {},
     "output_type": "display_data"
    }
   ],
   "source": [
    "means_59_st.sort_values(by='ACTIVITY')\n",
    "\n",
    "# plt.savefig(\"59_ST_Chart.png\")"
   ]
  },
  {
   "cell_type": "code",
   "execution_count": 1519,
   "metadata": {},
   "outputs": [
    {
     "data": {
      "image/png": "[encoded data removed]",
      "text/plain": [
       "<Figure size 432x288 with 1 Axes>"
      ]
     },
     "metadata": {
      "needs_background": "light"
     },
     "output_type": "display_data"
    }
   ],
   "source": [
    "sns.barplot(x = means_59_st.OBSERVED_TIME,\n",
    "            y=means_59_st.ACTIVITY, \n",
    "            color=\"pink\").set(title=\"59 St Activity By the Hour\", xlabel=\"Hour of Day\", ylabel=\"Activity\")\n",
    "\n",
    "# plt.savefig(\"59_ST.png\")"
   ]
  },
  {
   "cell_type": "code",
   "execution_count": null,
   "metadata": {},
   "outputs": [],
   "source": []
  },
  {
   "cell_type": "code",
   "execution_count": null,
   "metadata": {},
   "outputs": [],
   "source": []
  }
 ],
 "metadata": {
  "kernelspec": {
   "display_name": "Python 3",
   "language": "python",
   "name": "python3"
  },
  "language_info": {
   "codemirror_mode": {
    "name": "ipython",
    "version": 3
   },
   "file_extension": ".py",
   "mimetype": "text/x-python",
   "name": "python",
   "nbconvert_exporter": "python",
   "pygments_lexer": "ipython3",
   "version": "3.8.5"
  }
 },
 "nbformat": 4,
 "nbformat_minor": 4
}
