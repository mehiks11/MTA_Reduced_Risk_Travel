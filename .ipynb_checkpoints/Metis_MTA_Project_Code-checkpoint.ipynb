{
 "cells": [
  {
   "cell_type": "markdown",
   "metadata": {},
   "source": [
    "# MTA Subway Guide for Immunocompromised Transit Users\n",
    "### The following notebook details the code run-down delineating traffic levels at different times/days for the NYC subway system. The goal is to provide ranked best travel times (lowest traffic times) by station/line to be used by immunocompromised transit riders to decide when is an opportune time to schedule travel through the city."
   ]
  },
  {
   "cell_type": "markdown",
   "metadata": {},
   "source": [
    "The following code:\n",
    "1. Imports necessary packages    "
   ]
  },
  {
   "cell_type": "code",
   "execution_count": 1279,
   "metadata": {},
   "outputs": [],
   "source": [
    "import pandas as pd\n",
    "import numpy as np\n",
    "from sqlalchemy import create_engine\n",
    "import urllib.request"
   ]
  },
  {
   "cell_type": "markdown",
   "metadata": {},
   "source": [
    "The following code \n",
    "1. Imports our data set with the complex ids that will be used to add complex_ids to our MTA turnstiles data set \n",
    "2. renames certain columns to match with our MTA turnstiles column names\n"
   ]
  },
  {
   "cell_type": "code",
   "execution_count": 1280,
   "metadata": {},
   "outputs": [
    {
     "data": {
      "text/html": [
       "<div>\n",
       "<style scoped>\n",
       "    .dataframe tbody tr th:only-of-type {\n",
       "        vertical-align: middle;\n",
       "    }\n",
       "\n",
       "    .dataframe tbody tr th {\n",
       "        vertical-align: top;\n",
       "    }\n",
       "\n",
       "    .dataframe thead th {\n",
       "        text-align: right;\n",
       "    }\n",
       "</style>\n",
       "<table border=\"1\" class=\"dataframe\">\n",
       "  <thead>\n",
       "    <tr style=\"text-align: right;\">\n",
       "      <th></th>\n",
       "      <th>UNIT</th>\n",
       "      <th>C/A</th>\n",
       "      <th>COMPLEX_ID</th>\n",
       "      <th>STATION</th>\n",
       "      <th>LINENAME</th>\n",
       "      <th>DIVISION</th>\n",
       "    </tr>\n",
       "  </thead>\n",
       "  <tbody>\n",
       "    <tr>\n",
       "      <th>0</th>\n",
       "      <td>R001</td>\n",
       "      <td>A060</td>\n",
       "      <td>635.0</td>\n",
       "      <td>WHITEHALL ST</td>\n",
       "      <td>R1</td>\n",
       "      <td>BMT</td>\n",
       "    </tr>\n",
       "    <tr>\n",
       "      <th>1</th>\n",
       "      <td>R001</td>\n",
       "      <td>A058</td>\n",
       "      <td>635.0</td>\n",
       "      <td>WHITEHALL ST</td>\n",
       "      <td>R1</td>\n",
       "      <td>BMT</td>\n",
       "    </tr>\n",
       "    <tr>\n",
       "      <th>2</th>\n",
       "      <td>R001</td>\n",
       "      <td>R101S</td>\n",
       "      <td>635.0</td>\n",
       "      <td>SOUTH FERRY</td>\n",
       "      <td>R1</td>\n",
       "      <td>IRT</td>\n",
       "    </tr>\n",
       "    <tr>\n",
       "      <th>3</th>\n",
       "      <td>R002</td>\n",
       "      <td>A077</td>\n",
       "      <td>628.0</td>\n",
       "      <td>FULTON ST</td>\n",
       "      <td>ACJZ2345</td>\n",
       "      <td>BMT</td>\n",
       "    </tr>\n",
       "    <tr>\n",
       "      <th>4</th>\n",
       "      <td>R002</td>\n",
       "      <td>A081</td>\n",
       "      <td>628.0</td>\n",
       "      <td>FULTON ST</td>\n",
       "      <td>ACJZ2345</td>\n",
       "      <td>BMT</td>\n",
       "    </tr>\n",
       "  </tbody>\n",
       "</table>\n",
       "</div>"
      ],
      "text/plain": [
       "   UNIT    C/A  COMPLEX_ID       STATION  LINENAME DIVISION\n",
       "0  R001   A060       635.0  WHITEHALL ST        R1      BMT\n",
       "1  R001   A058       635.0  WHITEHALL ST        R1      BMT\n",
       "2  R001  R101S       635.0   SOUTH FERRY        R1      IRT\n",
       "3  R002   A077       628.0     FULTON ST  ACJZ2345      BMT\n",
       "4  R002   A081       628.0     FULTON ST  ACJZ2345      BMT"
      ]
     },
     "execution_count": 1280,
     "metadata": {},
     "output_type": "execute_result"
    }
   ],
   "source": [
    "complex_ids= pd.read_csv(r'/Users/mehikapatel/Downloads/remote_complex_lookupcsv/body.csv')\n",
    "complex_ids.rename({'remote':'UNIT', 'division':'DIVISION','line_name':'LINENAME','booth':'C/A', \"station\": \"STATION\", \"complex_id\": \"COMPLEX_ID\"},inplace=True, axis=1)\n",
    "complex_ids.head()"
   ]
  },
  {
   "cell_type": "markdown",
   "metadata": {},
   "source": [
    "The following code:\n",
    "1. Pulls our MTA turnstiles data from SQL to Python using SQLAlchemy into a datatable called df\n",
    "2. Run a sample SQL query using SQLAlchemy to obtain 59 ST station's data\n",
    "3. Gives us a look at some of the first entries in df"
   ]
  },
  {
   "cell_type": "code",
   "execution_count": 1281,
   "metadata": {},
   "outputs": [
    {
     "data": {
      "text/html": [
       "<div>\n",
       "<style scoped>\n",
       "    .dataframe tbody tr th:only-of-type {\n",
       "        vertical-align: middle;\n",
       "    }\n",
       "\n",
       "    .dataframe tbody tr th {\n",
       "        vertical-align: top;\n",
       "    }\n",
       "\n",
       "    .dataframe thead th {\n",
       "        text-align: right;\n",
       "    }\n",
       "</style>\n",
       "<table border=\"1\" class=\"dataframe\">\n",
       "  <thead>\n",
       "    <tr style=\"text-align: right;\">\n",
       "      <th></th>\n",
       "      <th>C/A</th>\n",
       "      <th>UNIT</th>\n",
       "      <th>SCP</th>\n",
       "      <th>STATION</th>\n",
       "      <th>LINENAME</th>\n",
       "      <th>DIVISION</th>\n",
       "      <th>DATE</th>\n",
       "      <th>TIME</th>\n",
       "      <th>DESC</th>\n",
       "      <th>ENTRIES</th>\n",
       "      <th>EXITS</th>\n",
       "    </tr>\n",
       "  </thead>\n",
       "  <tbody>\n",
       "    <tr>\n",
       "      <th>0</th>\n",
       "      <td>A002</td>\n",
       "      <td>R051</td>\n",
       "      <td>02-00-00</td>\n",
       "      <td>59 ST</td>\n",
       "      <td>NQR456W</td>\n",
       "      <td>BMT</td>\n",
       "      <td>03/13/2021</td>\n",
       "      <td>03:00:00</td>\n",
       "      <td>REGULAR</td>\n",
       "      <td>7543925</td>\n",
       "      <td>2573549</td>\n",
       "    </tr>\n",
       "    <tr>\n",
       "      <th>1</th>\n",
       "      <td>A002</td>\n",
       "      <td>R051</td>\n",
       "      <td>02-00-00</td>\n",
       "      <td>59 ST</td>\n",
       "      <td>NQR456W</td>\n",
       "      <td>BMT</td>\n",
       "      <td>03/13/2021</td>\n",
       "      <td>07:00:00</td>\n",
       "      <td>REGULAR</td>\n",
       "      <td>7543931</td>\n",
       "      <td>2573559</td>\n",
       "    </tr>\n",
       "    <tr>\n",
       "      <th>2</th>\n",
       "      <td>A002</td>\n",
       "      <td>R051</td>\n",
       "      <td>02-00-00</td>\n",
       "      <td>59 ST</td>\n",
       "      <td>NQR456W</td>\n",
       "      <td>BMT</td>\n",
       "      <td>03/13/2021</td>\n",
       "      <td>11:00:00</td>\n",
       "      <td>REGULAR</td>\n",
       "      <td>7543970</td>\n",
       "      <td>2573622</td>\n",
       "    </tr>\n",
       "    <tr>\n",
       "      <th>3</th>\n",
       "      <td>A002</td>\n",
       "      <td>R051</td>\n",
       "      <td>02-00-00</td>\n",
       "      <td>59 ST</td>\n",
       "      <td>NQR456W</td>\n",
       "      <td>BMT</td>\n",
       "      <td>03/13/2021</td>\n",
       "      <td>15:00:00</td>\n",
       "      <td>REGULAR</td>\n",
       "      <td>7544072</td>\n",
       "      <td>2573700</td>\n",
       "    </tr>\n",
       "    <tr>\n",
       "      <th>4</th>\n",
       "      <td>A002</td>\n",
       "      <td>R051</td>\n",
       "      <td>02-00-00</td>\n",
       "      <td>59 ST</td>\n",
       "      <td>NQR456W</td>\n",
       "      <td>BMT</td>\n",
       "      <td>03/13/2021</td>\n",
       "      <td>19:00:00</td>\n",
       "      <td>REGULAR</td>\n",
       "      <td>7544219</td>\n",
       "      <td>2573729</td>\n",
       "    </tr>\n",
       "  </tbody>\n",
       "</table>\n",
       "</div>"
      ],
      "text/plain": [
       "    C/A  UNIT       SCP STATION LINENAME DIVISION        DATE      TIME  \\\n",
       "0  A002  R051  02-00-00   59 ST  NQR456W      BMT  03/13/2021  03:00:00   \n",
       "1  A002  R051  02-00-00   59 ST  NQR456W      BMT  03/13/2021  07:00:00   \n",
       "2  A002  R051  02-00-00   59 ST  NQR456W      BMT  03/13/2021  11:00:00   \n",
       "3  A002  R051  02-00-00   59 ST  NQR456W      BMT  03/13/2021  15:00:00   \n",
       "4  A002  R051  02-00-00   59 ST  NQR456W      BMT  03/13/2021  19:00:00   \n",
       "\n",
       "      DESC  ENTRIES    EXITS  \n",
       "0  REGULAR  7543925  2573549  \n",
       "1  REGULAR  7543931  2573559  \n",
       "2  REGULAR  7543970  2573622  \n",
       "3  REGULAR  7544072  2573700  \n",
       "4  REGULAR  7544219  2573729  "
      ]
     },
     "execution_count": 1281,
     "metadata": {},
     "output_type": "execute_result"
    }
   ],
   "source": [
    "#pull data from SQL to python using SQLAlchemy\n",
    "engine = create_engine(\"sqlite:///mta.db\")\n",
    "df = pd.read_sql('SELECT * FROM mta_data;', engine)\n",
    "#SQLAlchemy Querying 59th ST for initial exploration\n",
    "FIFTY_NINE_ST_DATA= pd.read_sql(\"select * FROM mta_data where station='59 ST'\",engine)\n",
    "\n",
    "df.head()\n",
    "#describe the df\n",
    "# df.describe()\n",
    "#info on the df\n",
    "# df.info()"
   ]
  },
  {
   "cell_type": "markdown",
   "metadata": {},
   "source": [
    "The following code:\n",
    "1. Creates a datetime column in our df set called OBSERVED_TIME"
   ]
  },
  {
   "cell_type": "code",
   "execution_count": 1282,
   "metadata": {},
   "outputs": [
    {
     "data": {
      "text/html": [
       "<div>\n",
       "<style scoped>\n",
       "    .dataframe tbody tr th:only-of-type {\n",
       "        vertical-align: middle;\n",
       "    }\n",
       "\n",
       "    .dataframe tbody tr th {\n",
       "        vertical-align: top;\n",
       "    }\n",
       "\n",
       "    .dataframe thead th {\n",
       "        text-align: right;\n",
       "    }\n",
       "</style>\n",
       "<table border=\"1\" class=\"dataframe\">\n",
       "  <thead>\n",
       "    <tr style=\"text-align: right;\">\n",
       "      <th></th>\n",
       "      <th>C/A</th>\n",
       "      <th>UNIT</th>\n",
       "      <th>SCP</th>\n",
       "      <th>STATION</th>\n",
       "      <th>LINENAME</th>\n",
       "      <th>DIVISION</th>\n",
       "      <th>DATE</th>\n",
       "      <th>TIME</th>\n",
       "      <th>DESC</th>\n",
       "      <th>ENTRIES</th>\n",
       "      <th>EXITS</th>\n",
       "      <th>OBSERVED_TIME</th>\n",
       "    </tr>\n",
       "  </thead>\n",
       "  <tbody>\n",
       "    <tr>\n",
       "      <th>0</th>\n",
       "      <td>A002</td>\n",
       "      <td>R051</td>\n",
       "      <td>02-00-00</td>\n",
       "      <td>59 ST</td>\n",
       "      <td>NQR456W</td>\n",
       "      <td>BMT</td>\n",
       "      <td>03/13/2021</td>\n",
       "      <td>03:00:00</td>\n",
       "      <td>REGULAR</td>\n",
       "      <td>7543925</td>\n",
       "      <td>2573549</td>\n",
       "      <td>2021-03-13 03:00:00</td>\n",
       "    </tr>\n",
       "    <tr>\n",
       "      <th>1</th>\n",
       "      <td>A002</td>\n",
       "      <td>R051</td>\n",
       "      <td>02-00-00</td>\n",
       "      <td>59 ST</td>\n",
       "      <td>NQR456W</td>\n",
       "      <td>BMT</td>\n",
       "      <td>03/13/2021</td>\n",
       "      <td>07:00:00</td>\n",
       "      <td>REGULAR</td>\n",
       "      <td>7543931</td>\n",
       "      <td>2573559</td>\n",
       "      <td>2021-03-13 07:00:00</td>\n",
       "    </tr>\n",
       "    <tr>\n",
       "      <th>2</th>\n",
       "      <td>A002</td>\n",
       "      <td>R051</td>\n",
       "      <td>02-00-00</td>\n",
       "      <td>59 ST</td>\n",
       "      <td>NQR456W</td>\n",
       "      <td>BMT</td>\n",
       "      <td>03/13/2021</td>\n",
       "      <td>11:00:00</td>\n",
       "      <td>REGULAR</td>\n",
       "      <td>7543970</td>\n",
       "      <td>2573622</td>\n",
       "      <td>2021-03-13 11:00:00</td>\n",
       "    </tr>\n",
       "    <tr>\n",
       "      <th>3</th>\n",
       "      <td>A002</td>\n",
       "      <td>R051</td>\n",
       "      <td>02-00-00</td>\n",
       "      <td>59 ST</td>\n",
       "      <td>NQR456W</td>\n",
       "      <td>BMT</td>\n",
       "      <td>03/13/2021</td>\n",
       "      <td>15:00:00</td>\n",
       "      <td>REGULAR</td>\n",
       "      <td>7544072</td>\n",
       "      <td>2573700</td>\n",
       "      <td>2021-03-13 15:00:00</td>\n",
       "    </tr>\n",
       "    <tr>\n",
       "      <th>4</th>\n",
       "      <td>A002</td>\n",
       "      <td>R051</td>\n",
       "      <td>02-00-00</td>\n",
       "      <td>59 ST</td>\n",
       "      <td>NQR456W</td>\n",
       "      <td>BMT</td>\n",
       "      <td>03/13/2021</td>\n",
       "      <td>19:00:00</td>\n",
       "      <td>REGULAR</td>\n",
       "      <td>7544219</td>\n",
       "      <td>2573729</td>\n",
       "      <td>2021-03-13 19:00:00</td>\n",
       "    </tr>\n",
       "  </tbody>\n",
       "</table>\n",
       "</div>"
      ],
      "text/plain": [
       "    C/A  UNIT       SCP STATION LINENAME DIVISION        DATE      TIME  \\\n",
       "0  A002  R051  02-00-00   59 ST  NQR456W      BMT  03/13/2021  03:00:00   \n",
       "1  A002  R051  02-00-00   59 ST  NQR456W      BMT  03/13/2021  07:00:00   \n",
       "2  A002  R051  02-00-00   59 ST  NQR456W      BMT  03/13/2021  11:00:00   \n",
       "3  A002  R051  02-00-00   59 ST  NQR456W      BMT  03/13/2021  15:00:00   \n",
       "4  A002  R051  02-00-00   59 ST  NQR456W      BMT  03/13/2021  19:00:00   \n",
       "\n",
       "      DESC  ENTRIES    EXITS       OBSERVED_TIME  \n",
       "0  REGULAR  7543925  2573549 2021-03-13 03:00:00  \n",
       "1  REGULAR  7543931  2573559 2021-03-13 07:00:00  \n",
       "2  REGULAR  7543970  2573622 2021-03-13 11:00:00  \n",
       "3  REGULAR  7544072  2573700 2021-03-13 15:00:00  \n",
       "4  REGULAR  7544219  2573729 2021-03-13 19:00:00  "
      ]
     },
     "execution_count": 1282,
     "metadata": {},
     "output_type": "execute_result"
    }
   ],
   "source": [
    "#create a datetime column\n",
    "df[\"OBSERVED_TIME\"] = pd.to_datetime(df.DATE + \" \" + df.TIME, \n",
    "                                            format=\"%m/%d/%Y %H:%M:%S\")\n",
    "\n",
    "df.head()"
   ]
  },
  {
   "cell_type": "markdown",
   "metadata": {},
   "source": [
    "The following code:\n",
    "1. Inserts an \"ID\" column for unique singular identification of a turnstile"
   ]
  },
  {
   "cell_type": "code",
   "execution_count": 1283,
   "metadata": {},
   "outputs": [
    {
     "data": {
      "text/html": [
       "<div>\n",
       "<style scoped>\n",
       "    .dataframe tbody tr th:only-of-type {\n",
       "        vertical-align: middle;\n",
       "    }\n",
       "\n",
       "    .dataframe tbody tr th {\n",
       "        vertical-align: top;\n",
       "    }\n",
       "\n",
       "    .dataframe thead th {\n",
       "        text-align: right;\n",
       "    }\n",
       "</style>\n",
       "<table border=\"1\" class=\"dataframe\">\n",
       "  <thead>\n",
       "    <tr style=\"text-align: right;\">\n",
       "      <th></th>\n",
       "      <th>ID</th>\n",
       "      <th>C/A</th>\n",
       "      <th>UNIT</th>\n",
       "      <th>SCP</th>\n",
       "      <th>STATION</th>\n",
       "      <th>LINENAME</th>\n",
       "      <th>DIVISION</th>\n",
       "      <th>DATE</th>\n",
       "      <th>TIME</th>\n",
       "      <th>DESC</th>\n",
       "      <th>ENTRIES</th>\n",
       "      <th>EXITS</th>\n",
       "      <th>OBSERVED_TIME</th>\n",
       "    </tr>\n",
       "  </thead>\n",
       "  <tbody>\n",
       "    <tr>\n",
       "      <th>0</th>\n",
       "      <td>A002 R051 02-00-00</td>\n",
       "      <td>A002</td>\n",
       "      <td>R051</td>\n",
       "      <td>02-00-00</td>\n",
       "      <td>59 ST</td>\n",
       "      <td>NQR456W</td>\n",
       "      <td>BMT</td>\n",
       "      <td>03/13/2021</td>\n",
       "      <td>03:00:00</td>\n",
       "      <td>REGULAR</td>\n",
       "      <td>7543925</td>\n",
       "      <td>2573549</td>\n",
       "      <td>2021-03-13 03:00:00</td>\n",
       "    </tr>\n",
       "    <tr>\n",
       "      <th>1</th>\n",
       "      <td>A002 R051 02-00-00</td>\n",
       "      <td>A002</td>\n",
       "      <td>R051</td>\n",
       "      <td>02-00-00</td>\n",
       "      <td>59 ST</td>\n",
       "      <td>NQR456W</td>\n",
       "      <td>BMT</td>\n",
       "      <td>03/13/2021</td>\n",
       "      <td>07:00:00</td>\n",
       "      <td>REGULAR</td>\n",
       "      <td>7543931</td>\n",
       "      <td>2573559</td>\n",
       "      <td>2021-03-13 07:00:00</td>\n",
       "    </tr>\n",
       "    <tr>\n",
       "      <th>2</th>\n",
       "      <td>A002 R051 02-00-00</td>\n",
       "      <td>A002</td>\n",
       "      <td>R051</td>\n",
       "      <td>02-00-00</td>\n",
       "      <td>59 ST</td>\n",
       "      <td>NQR456W</td>\n",
       "      <td>BMT</td>\n",
       "      <td>03/13/2021</td>\n",
       "      <td>11:00:00</td>\n",
       "      <td>REGULAR</td>\n",
       "      <td>7543970</td>\n",
       "      <td>2573622</td>\n",
       "      <td>2021-03-13 11:00:00</td>\n",
       "    </tr>\n",
       "    <tr>\n",
       "      <th>3</th>\n",
       "      <td>A002 R051 02-00-00</td>\n",
       "      <td>A002</td>\n",
       "      <td>R051</td>\n",
       "      <td>02-00-00</td>\n",
       "      <td>59 ST</td>\n",
       "      <td>NQR456W</td>\n",
       "      <td>BMT</td>\n",
       "      <td>03/13/2021</td>\n",
       "      <td>15:00:00</td>\n",
       "      <td>REGULAR</td>\n",
       "      <td>7544072</td>\n",
       "      <td>2573700</td>\n",
       "      <td>2021-03-13 15:00:00</td>\n",
       "    </tr>\n",
       "    <tr>\n",
       "      <th>4</th>\n",
       "      <td>A002 R051 02-00-00</td>\n",
       "      <td>A002</td>\n",
       "      <td>R051</td>\n",
       "      <td>02-00-00</td>\n",
       "      <td>59 ST</td>\n",
       "      <td>NQR456W</td>\n",
       "      <td>BMT</td>\n",
       "      <td>03/13/2021</td>\n",
       "      <td>19:00:00</td>\n",
       "      <td>REGULAR</td>\n",
       "      <td>7544219</td>\n",
       "      <td>2573729</td>\n",
       "      <td>2021-03-13 19:00:00</td>\n",
       "    </tr>\n",
       "  </tbody>\n",
       "</table>\n",
       "</div>"
      ],
      "text/plain": [
       "                   ID   C/A  UNIT       SCP STATION LINENAME DIVISION  \\\n",
       "0  A002 R051 02-00-00  A002  R051  02-00-00   59 ST  NQR456W      BMT   \n",
       "1  A002 R051 02-00-00  A002  R051  02-00-00   59 ST  NQR456W      BMT   \n",
       "2  A002 R051 02-00-00  A002  R051  02-00-00   59 ST  NQR456W      BMT   \n",
       "3  A002 R051 02-00-00  A002  R051  02-00-00   59 ST  NQR456W      BMT   \n",
       "4  A002 R051 02-00-00  A002  R051  02-00-00   59 ST  NQR456W      BMT   \n",
       "\n",
       "         DATE      TIME     DESC  ENTRIES    EXITS       OBSERVED_TIME  \n",
       "0  03/13/2021  03:00:00  REGULAR  7543925  2573549 2021-03-13 03:00:00  \n",
       "1  03/13/2021  07:00:00  REGULAR  7543931  2573559 2021-03-13 07:00:00  \n",
       "2  03/13/2021  11:00:00  REGULAR  7543970  2573622 2021-03-13 11:00:00  \n",
       "3  03/13/2021  15:00:00  REGULAR  7544072  2573700 2021-03-13 15:00:00  \n",
       "4  03/13/2021  19:00:00  REGULAR  7544219  2573729 2021-03-13 19:00:00  "
      ]
     },
     "execution_count": 1283,
     "metadata": {},
     "output_type": "execute_result"
    }
   ],
   "source": [
    "ind_turnstile=df['C/A']+ ' '+df['UNIT']+ ' '+ df['SCP']\n",
    "\n",
    "df.insert(0, 'ID', ind_turnstile)\n",
    "\n",
    "df.head()"
   ]
  },
  {
   "cell_type": "markdown",
   "metadata": {},
   "source": [
    "The following code:\n",
    "1. Drops Recovery Audit entries for cleaner dataset, after which there are 206295 rows remaining in the dataframe"
   ]
  },
  {
   "cell_type": "code",
   "execution_count": 1284,
   "metadata": {},
   "outputs": [],
   "source": [
    "df.drop(df.loc[df['DESC']=='RECOVR AUD'].index, inplace=True)\n",
    "#206295 ROWS AFTER DROPPING RECOVERY AUDITS\n",
    "# df.info()"
   ]
  },
  {
   "cell_type": "markdown",
   "metadata": {},
   "source": [
    "The following code:\n",
    "1. Creates a new data frame that left merged the MTA turnstiles df with our complex ids data set, which ultimately adds the following variables to our MTA turnstiles:\n",
    "    * complex_id\n",
    "    * alternative station name found from complex id data set\n",
    "    * drops alternative Station and Line Names\n",
    "    * relabels STATION and LINENAME to original names\n",
    "\n",
    "Our dataset still has 206295 rows.\n",
    " "
   ]
  },
  {
   "cell_type": "code",
   "execution_count": 1285,
   "metadata": {},
   "outputs": [
    {
     "data": {
      "text/html": [
       "<div>\n",
       "<style scoped>\n",
       "    .dataframe tbody tr th:only-of-type {\n",
       "        vertical-align: middle;\n",
       "    }\n",
       "\n",
       "    .dataframe tbody tr th {\n",
       "        vertical-align: top;\n",
       "    }\n",
       "\n",
       "    .dataframe thead th {\n",
       "        text-align: right;\n",
       "    }\n",
       "</style>\n",
       "<table border=\"1\" class=\"dataframe\">\n",
       "  <thead>\n",
       "    <tr style=\"text-align: right;\">\n",
       "      <th></th>\n",
       "      <th>ID</th>\n",
       "      <th>C/A</th>\n",
       "      <th>UNIT</th>\n",
       "      <th>SCP</th>\n",
       "      <th>STATION</th>\n",
       "      <th>LINENAME</th>\n",
       "      <th>DIVISION</th>\n",
       "      <th>DATE</th>\n",
       "      <th>TIME</th>\n",
       "      <th>DESC</th>\n",
       "      <th>ENTRIES</th>\n",
       "      <th>EXITS</th>\n",
       "      <th>OBSERVED_TIME</th>\n",
       "      <th>COMPLEX_ID</th>\n",
       "    </tr>\n",
       "  </thead>\n",
       "  <tbody>\n",
       "    <tr>\n",
       "      <th>0</th>\n",
       "      <td>A002 R051 02-00-00</td>\n",
       "      <td>A002</td>\n",
       "      <td>R051</td>\n",
       "      <td>02-00-00</td>\n",
       "      <td>59 ST</td>\n",
       "      <td>NQR456W</td>\n",
       "      <td>BMT</td>\n",
       "      <td>03/13/2021</td>\n",
       "      <td>03:00:00</td>\n",
       "      <td>REGULAR</td>\n",
       "      <td>7543925</td>\n",
       "      <td>2573549</td>\n",
       "      <td>2021-03-13 03:00:00</td>\n",
       "      <td>613.0</td>\n",
       "    </tr>\n",
       "    <tr>\n",
       "      <th>1</th>\n",
       "      <td>A002 R051 02-00-00</td>\n",
       "      <td>A002</td>\n",
       "      <td>R051</td>\n",
       "      <td>02-00-00</td>\n",
       "      <td>59 ST</td>\n",
       "      <td>NQR456W</td>\n",
       "      <td>BMT</td>\n",
       "      <td>03/13/2021</td>\n",
       "      <td>07:00:00</td>\n",
       "      <td>REGULAR</td>\n",
       "      <td>7543931</td>\n",
       "      <td>2573559</td>\n",
       "      <td>2021-03-13 07:00:00</td>\n",
       "      <td>613.0</td>\n",
       "    </tr>\n",
       "    <tr>\n",
       "      <th>2</th>\n",
       "      <td>A002 R051 02-00-00</td>\n",
       "      <td>A002</td>\n",
       "      <td>R051</td>\n",
       "      <td>02-00-00</td>\n",
       "      <td>59 ST</td>\n",
       "      <td>NQR456W</td>\n",
       "      <td>BMT</td>\n",
       "      <td>03/13/2021</td>\n",
       "      <td>11:00:00</td>\n",
       "      <td>REGULAR</td>\n",
       "      <td>7543970</td>\n",
       "      <td>2573622</td>\n",
       "      <td>2021-03-13 11:00:00</td>\n",
       "      <td>613.0</td>\n",
       "    </tr>\n",
       "    <tr>\n",
       "      <th>3</th>\n",
       "      <td>A002 R051 02-00-00</td>\n",
       "      <td>A002</td>\n",
       "      <td>R051</td>\n",
       "      <td>02-00-00</td>\n",
       "      <td>59 ST</td>\n",
       "      <td>NQR456W</td>\n",
       "      <td>BMT</td>\n",
       "      <td>03/13/2021</td>\n",
       "      <td>15:00:00</td>\n",
       "      <td>REGULAR</td>\n",
       "      <td>7544072</td>\n",
       "      <td>2573700</td>\n",
       "      <td>2021-03-13 15:00:00</td>\n",
       "      <td>613.0</td>\n",
       "    </tr>\n",
       "    <tr>\n",
       "      <th>4</th>\n",
       "      <td>A002 R051 02-00-00</td>\n",
       "      <td>A002</td>\n",
       "      <td>R051</td>\n",
       "      <td>02-00-00</td>\n",
       "      <td>59 ST</td>\n",
       "      <td>NQR456W</td>\n",
       "      <td>BMT</td>\n",
       "      <td>03/13/2021</td>\n",
       "      <td>19:00:00</td>\n",
       "      <td>REGULAR</td>\n",
       "      <td>7544219</td>\n",
       "      <td>2573729</td>\n",
       "      <td>2021-03-13 19:00:00</td>\n",
       "      <td>613.0</td>\n",
       "    </tr>\n",
       "  </tbody>\n",
       "</table>\n",
       "</div>"
      ],
      "text/plain": [
       "                   ID   C/A  UNIT       SCP STATION LINENAME DIVISION  \\\n",
       "0  A002 R051 02-00-00  A002  R051  02-00-00   59 ST  NQR456W      BMT   \n",
       "1  A002 R051 02-00-00  A002  R051  02-00-00   59 ST  NQR456W      BMT   \n",
       "2  A002 R051 02-00-00  A002  R051  02-00-00   59 ST  NQR456W      BMT   \n",
       "3  A002 R051 02-00-00  A002  R051  02-00-00   59 ST  NQR456W      BMT   \n",
       "4  A002 R051 02-00-00  A002  R051  02-00-00   59 ST  NQR456W      BMT   \n",
       "\n",
       "         DATE      TIME     DESC  ENTRIES    EXITS       OBSERVED_TIME  \\\n",
       "0  03/13/2021  03:00:00  REGULAR  7543925  2573549 2021-03-13 03:00:00   \n",
       "1  03/13/2021  07:00:00  REGULAR  7543931  2573559 2021-03-13 07:00:00   \n",
       "2  03/13/2021  11:00:00  REGULAR  7543970  2573622 2021-03-13 11:00:00   \n",
       "3  03/13/2021  15:00:00  REGULAR  7544072  2573700 2021-03-13 15:00:00   \n",
       "4  03/13/2021  19:00:00  REGULAR  7544219  2573729 2021-03-13 19:00:00   \n",
       "\n",
       "   COMPLEX_ID  \n",
       "0       613.0  \n",
       "1       613.0  \n",
       "2       613.0  \n",
       "3       613.0  \n",
       "4       613.0  "
      ]
     },
     "execution_count": 1285,
     "metadata": {},
     "output_type": "execute_result"
    }
   ],
   "source": [
    "#new df with complex ids added to MTA data\n",
    "Pre_ADA_df=pd.merge(df,complex_ids, on=['UNIT','C/A','DIVISION'], how='left')\n",
    "#still has 206295 entries\n",
    "# Pre_ADA_df.info()\n",
    "\n",
    "#drop new station and line name columns\n",
    "Pre_ADA_df.drop(['STATION_y', 'LINENAME_y'], axis=1, inplace=True)\n",
    "\n",
    "#rename columns back to station and linename\n",
    "Pre_ADA_df.rename({'STATION_x':'STATION','LINENAME_x':'LINENAME'}, axis=1, inplace=True)\n",
    "# Pre_ADA_df.info()\n",
    "Pre_ADA_df.head()"
   ]
  },
  {
   "cell_type": "markdown",
   "metadata": {},
   "source": [
    "The following code:\n",
    "1. Imports the ADA information dataset \n",
    "2. Renames Complex ID column to match our other dataframe"
   ]
  },
  {
   "cell_type": "code",
   "execution_count": 1286,
   "metadata": {},
   "outputs": [],
   "source": [
    "ADA=pd.read_csv('http://web.mta.info/developers/data/nyct/subway/Stations.csv')\n",
    "ADA.rename({'Complex ID': 'COMPLEX_ID', 'Division':'DIVISION'},inplace=True,axis=1)"
   ]
  },
  {
   "cell_type": "markdown",
   "metadata": {},
   "source": [
    "### WHY ARE THERE SO MANY MORE ROWS EVEN WHEN I DID A LEFT JOIN?!\n",
    "###### It was found that there was an increase in rows when merging ADA and MTA df so we are investigating in the following code. It seems the ADA dataset uses the same several (51) complex IDs multiple times, which leads to the merge creating a new row for every time a copmlex ID is used in the ADA df. We will sort this by investigating why complex IDs are used multiple times, and by sifting them down to a single complex id/or by combining the information provided."
   ]
  },
  {
   "cell_type": "code",
   "execution_count": 1287,
   "metadata": {},
   "outputs": [
    {
     "data": {
      "text/plain": [
       "445"
      ]
     },
     "execution_count": 1287,
     "metadata": {},
     "output_type": "execute_result"
    }
   ],
   "source": [
    "ADA.COMPLEX_ID.nunique()\n",
    "# ADA.info()\n",
    "\n",
    "#445 unique values versus 496 entries in the dataframe = 51 times certain complex ids are being reused."
   ]
  },
  {
   "cell_type": "code",
   "execution_count": 1288,
   "metadata": {},
   "outputs": [],
   "source": [
    "# ADA.COMPLEX_ID.describe()"
   ]
  },
  {
   "cell_type": "markdown",
   "metadata": {},
   "source": [
    "We will drop/change certain values from our ADA set below according to later investigation underneath."
   ]
  },
  {
   "cell_type": "code",
   "execution_count": 1289,
   "metadata": {},
   "outputs": [],
   "source": [
    "ADA.drop(162,axis=0, inplace=True)\n",
    "ADA.drop(468,axis=0, inplace=True)\n",
    "ADA.drop(469,axis=0, inplace=True)\n",
    "\n",
    "\n",
    "ADA.drop(412,axis=0, inplace=True)\n",
    "ADA.drop(171,axis=0, inplace=True)\n",
    "ADA.drop(17,axis=0, inplace=True)\n",
    "ADA.drop(103,axis=0, inplace=True)\n",
    "\n",
    "ADA.drop(466,axis=0, inplace=True)\n",
    "ADA.drop(470,axis=0, inplace=True)\n",
    "\n",
    "ADA.drop(274,axis=0, inplace=True)\n",
    "ADA.drop(116,axis=0, inplace=True)\n",
    "\n",
    "ADA.drop(335,axis=0, inplace=True)\n",
    "\n",
    "ADA.drop(91,axis=0, inplace=True)\n",
    "ADA.drop(23,axis=0, inplace=True)\n",
    "ADA.drop(26,axis=0, inplace=True)\n",
    "ADA.drop(149,axis=0, inplace=True)\n",
    "\n",
    "ADA.drop(166,axis=0, inplace=True)\n",
    "\n",
    "ADA.drop(435,axis=0, inplace=True)\n",
    "ADA.drop(111,axis=0, inplace=True)\n",
    "ADA.drop(72,axis=0, inplace=True)\n"
   ]
  },
  {
   "cell_type": "markdown",
   "metadata": {},
   "source": [
    "This finds us the complex IDs used multiple times:"
   ]
  },
  {
   "cell_type": "code",
   "execution_count": 1290,
   "metadata": {},
   "outputs": [],
   "source": [
    "# ADA.groupby(['COMPLEX_ID']).size().sort_values(ascending=False).head(10)"
   ]
  },
  {
   "cell_type": "markdown",
   "metadata": {},
   "source": [
    "This creates a list of data frames with the complex ids found to be used multiple times."
   ]
  },
  {
   "cell_type": "code",
   "execution_count": 1291,
   "metadata": {},
   "outputs": [],
   "source": [
    "dup_complexes=[611,628, 624,623,610,606,601,602,621,620,617,609,608,607,636,605,635,151,167,603,604,612,622,630,629,627,613,626,625,461,614, 618,615,616,619]\n",
    "\n",
    "\n",
    "dup_complexes_rows=[]\n",
    "\n",
    "for num in dup_complexes:\n",
    "    dup_complexes_rows.append(ADA.loc[ADA['COMPLEX_ID'] == num])"
   ]
  },
  {
   "cell_type": "code",
   "execution_count": 1292,
   "metadata": {},
   "outputs": [],
   "source": [
    "# Pre_ADA_df.loc[Pre_ADA_df['COMPLEX_ID'] == 617]"
   ]
  },
  {
   "cell_type": "code",
   "execution_count": 1293,
   "metadata": {},
   "outputs": [],
   "source": [
    "# Pre_ADA_df.loc[Pre_ADA_df['COMPLEX_ID'] == 620].groupby(['STATION']).size()"
   ]
  },
  {
   "cell_type": "code",
   "execution_count": 1294,
   "metadata": {},
   "outputs": [],
   "source": [
    "# dup_complexes_rows[9]"
   ]
  },
  {
   "cell_type": "markdown",
   "metadata": {},
   "source": [
    "### Now that we have removed duplicated complex_id information by sifting throguh duplicates, we will also join on division to further nuance the data. Now we can see we have 206295 entries as expected."
   ]
  },
  {
   "cell_type": "markdown",
   "metadata": {},
   "source": [
    "The following code:\n",
    "\n",
    "1. Creates a final working dataset with several variables by combing MTA Data set with ADA dataset via complex ID\n",
    "\n",
    "**Now our final dataset to work with and further clean will be ADA_df.**\n",
    "\n"
   ]
  },
  {
   "cell_type": "code",
   "execution_count": 1295,
   "metadata": {},
   "outputs": [
    {
     "name": "stdout",
     "output_type": "stream",
     "text": [
      "<class 'pandas.core.frame.DataFrame'>\n",
      "Int64Index: 206295 entries, 0 to 206294\n",
      "Data columns (total 27 columns):\n",
      " #   Column                 Non-Null Count   Dtype         \n",
      "---  ------                 --------------   -----         \n",
      " 0   ID                     206295 non-null  object        \n",
      " 1   C/A                    206295 non-null  object        \n",
      " 2   UNIT                   206295 non-null  object        \n",
      " 3   SCP                    206295 non-null  object        \n",
      " 4   STATION                206295 non-null  object        \n",
      " 5   LINENAME               206295 non-null  object        \n",
      " 6   DIVISION               206295 non-null  object        \n",
      " 7   DATE                   206295 non-null  object        \n",
      " 8   TIME                   206295 non-null  object        \n",
      " 9   DESC                   206295 non-null  object        \n",
      " 10  ENTRIES                206295 non-null  int64         \n",
      " 11  EXITS                  206295 non-null  int64         \n",
      " 12  OBSERVED_TIME          206295 non-null  datetime64[ns]\n",
      " 13  COMPLEX_ID             184256 non-null  float64       \n",
      " 14  Station ID             179010 non-null  float64       \n",
      " 15  GTFS Stop ID           179010 non-null  object        \n",
      " 16  Line                   179010 non-null  object        \n",
      " 17  Stop Name              179010 non-null  object        \n",
      " 18  Borough                179010 non-null  object        \n",
      " 19  Daytime Routes         179010 non-null  object        \n",
      " 20  Structure              179010 non-null  object        \n",
      " 21  GTFS Latitude          179010 non-null  float64       \n",
      " 22  GTFS Longitude         179010 non-null  float64       \n",
      " 23  North Direction Label  171606 non-null  object        \n",
      " 24  South Direction Label  173173 non-null  object        \n",
      " 25  ADA                    179010 non-null  float64       \n",
      " 26  ADA Notes              5748 non-null    object        \n",
      "dtypes: datetime64[ns](1), float64(5), int64(2), object(19)\n",
      "memory usage: 44.1+ MB\n"
     ]
    }
   ],
   "source": [
    "ADA_df=pd.merge(Pre_ADA_df, ADA, how='left', on=['COMPLEX_ID', 'DIVISION'])\n",
    "\n",
    "ADA_df.info()"
   ]
  },
  {
   "cell_type": "markdown",
   "metadata": {},
   "source": [
    "The following code:\n",
    "1. Removes unecessary columns. "
   ]
  },
  {
   "cell_type": "code",
   "execution_count": 1296,
   "metadata": {},
   "outputs": [],
   "source": [
    "ADA_df.drop(['DESC','Borough','Daytime Routes','Structure', 'Line','GTFS Stop ID'],axis=1,inplace=True)"
   ]
  },
  {
   "cell_type": "code",
   "execution_count": 1297,
   "metadata": {},
   "outputs": [],
   "source": [
    "# ADA_df.info()"
   ]
  },
  {
   "cell_type": "markdown",
   "metadata": {},
   "source": [
    "The following code will:\n",
    "1. Group the rows by turnstile and calculate the actual number of exits and entries."
   ]
  },
  {
   "cell_type": "code",
   "execution_count": 1298,
   "metadata": {},
   "outputs": [
    {
     "name": "stdout",
     "output_type": "stream",
     "text": [
      "<class 'pandas.core.frame.DataFrame'>\n",
      "Int64Index: 206295 entries, 0 to 206294\n",
      "Data columns (total 23 columns):\n",
      " #   Column                 Non-Null Count   Dtype         \n",
      "---  ------                 --------------   -----         \n",
      " 0   ID                     206295 non-null  object        \n",
      " 1   C/A                    206295 non-null  object        \n",
      " 2   UNIT                   206295 non-null  object        \n",
      " 3   SCP                    206295 non-null  object        \n",
      " 4   STATION                206295 non-null  object        \n",
      " 5   LINENAME               206295 non-null  object        \n",
      " 6   DIVISION               206295 non-null  object        \n",
      " 7   DATE                   206295 non-null  object        \n",
      " 8   TIME                   206295 non-null  object        \n",
      " 9   ENTRIES                206295 non-null  int64         \n",
      " 10  EXITS                  206295 non-null  int64         \n",
      " 11  OBSERVED_TIME          206295 non-null  datetime64[ns]\n",
      " 12  COMPLEX_ID             184256 non-null  float64       \n",
      " 13  Station ID             179010 non-null  float64       \n",
      " 14  Stop Name              179010 non-null  object        \n",
      " 15  GTFS Latitude          179010 non-null  float64       \n",
      " 16  GTFS Longitude         179010 non-null  float64       \n",
      " 17  North Direction Label  171606 non-null  object        \n",
      " 18  South Direction Label  173173 non-null  object        \n",
      " 19  ADA                    179010 non-null  float64       \n",
      " 20  ADA Notes              5748 non-null    object        \n",
      " 21  ACTUALENTRIES          201280 non-null  float64       \n",
      " 22  ACTUALEXITS            201280 non-null  float64       \n",
      "dtypes: datetime64[ns](1), float64(7), int64(2), object(13)\n",
      "memory usage: 47.8+ MB\n"
     ]
    }
   ],
   "source": [
    "ADA_df['ACTUALENTRIES']=ADA_df.groupby(['ID']).ENTRIES.diff()\n",
    "ADA_df['ACTUALEXITS']=ADA_df.groupby(['ID']).EXITS.diff()\n",
    "\n",
    "ADA_df.info()"
   ]
  },
  {
   "cell_type": "markdown",
   "metadata": {},
   "source": [
    "The following code will:\n",
    "1. Begin the cleaning process by clearing out entries from hourset 1 of data collection (because these values will not be helpful to us as it is simply the cumulative number of entries and exits).\n",
    "2. Will absolute value all actual exits and entries values to account for counters that may have counted backwards instead of up.\n",
    "3. Remove any rows with actual entry and exit values larger than 10,000, as these will likely be entries where the counter reset and are not the actual numbers. \n",
    "4. Finally, remove the original Entries and Exits Columns and rename the actual entries and exits to ENTRIES & EXITS respectively."
   ]
  },
  {
   "cell_type": "code",
   "execution_count": 1299,
   "metadata": {},
   "outputs": [],
   "source": [
    "#1.\n",
    "ADA_df.dropna(axis=0,subset=['ACTUALENTRIES'],inplace=True)\n",
    "ADA_df.dropna(axis=0,subset=['ACTUALEXITS'],inplace=True)\n",
    "# ADA_df.info()"
   ]
  },
  {
   "cell_type": "code",
   "execution_count": 1300,
   "metadata": {},
   "outputs": [],
   "source": [
    "#2.\n",
    "ADA_df.ACTUALENTRIES=ADA_df.ACTUALENTRIES.abs()\n",
    "ADA_df.ACTUALEXITS=ADA_df.ACTUALEXITS.abs()\n",
    "# ADA_df.ACTUALEXITS.describe()\n"
   ]
  },
  {
   "cell_type": "code",
   "execution_count": 1301,
   "metadata": {},
   "outputs": [],
   "source": [
    "#3.\n",
    "ADA_df.drop(ADA_df[ADA_df.ACTUALENTRIES >1007].index, inplace=True)\n",
    "ADA_df.drop(ADA_df[ADA_df.ACTUALEXITS >2225].index, inplace=True)"
   ]
  },
  {
   "cell_type": "markdown",
   "metadata": {},
   "source": [
    "The following comments show code used to sort through high values to check for counter reset to set above drop value conditionals."
   ]
  },
  {
   "cell_type": "code",
   "execution_count": 1302,
   "metadata": {},
   "outputs": [],
   "source": [
    "# ADA_df_TESTER=ADA_df.copy()\n",
    "\n",
    "# ADA_df_TESTER.drop(ADA_df_TESTER[ADA_df_TESTER.ACTUALENTRIES >1007].index, inplace=True)\n",
    "# ADA_df_TESTER.drop(ADA_df_TESTER[ADA_df_TESTER.ACTUALEXITS >2225].index, inplace=True)\n",
    "# ADA_df_TESTER.ACTUALEXITS.describe()\n",
    "# # ADA_df_TESTER.info()\n",
    "# # df.drop(df[df.score < 50].index, inplace=True)"
   ]
  },
  {
   "cell_type": "code",
   "execution_count": 1303,
   "metadata": {},
   "outputs": [
    {
     "name": "stdout",
     "output_type": "stream",
     "text": [
      "<class 'pandas.core.frame.DataFrame'>\n",
      "Int64Index: 201249 entries, 1 to 206294\n",
      "Data columns (total 21 columns):\n",
      " #   Column                 Non-Null Count   Dtype         \n",
      "---  ------                 --------------   -----         \n",
      " 0   ID                     201249 non-null  object        \n",
      " 1   C/A                    201249 non-null  object        \n",
      " 2   UNIT                   201249 non-null  object        \n",
      " 3   SCP                    201249 non-null  object        \n",
      " 4   STATION                201249 non-null  object        \n",
      " 5   LINENAME               201249 non-null  object        \n",
      " 6   DIVISION               201249 non-null  object        \n",
      " 7   DATE                   201249 non-null  object        \n",
      " 8   TIME                   201249 non-null  object        \n",
      " 9   OBSERVED_TIME          201249 non-null  datetime64[ns]\n",
      " 10  COMPLEX_ID             179765 non-null  float64       \n",
      " 11  Station ID             174647 non-null  float64       \n",
      " 12  Stop Name              174647 non-null  object        \n",
      " 13  GTFS Latitude          174647 non-null  float64       \n",
      " 14  GTFS Longitude         174647 non-null  float64       \n",
      " 15  North Direction Label  167426 non-null  object        \n",
      " 16  South Direction Label  168952 non-null  object        \n",
      " 17  ADA                    174647 non-null  float64       \n",
      " 18  ADA Notes              5608 non-null    object        \n",
      " 19  ACTUALENTRIES          201249 non-null  float64       \n",
      " 20  ACTUALEXITS            201249 non-null  float64       \n",
      "dtypes: datetime64[ns](1), float64(7), object(13)\n",
      "memory usage: 33.8+ MB\n"
     ]
    }
   ],
   "source": [
    "#4. \n",
    "ADA_df.drop(['ENTRIES'],axis=1,inplace=True)\n",
    "ADA_df.drop(['EXITS'],axis=1,inplace=True)"
   ]
  },
  {
   "cell_type": "code",
   "execution_count": 1304,
   "metadata": {},
   "outputs": [
    {
     "name": "stdout",
     "output_type": "stream",
     "text": [
      "<class 'pandas.core.frame.DataFrame'>\n",
      "Int64Index: 201249 entries, 1 to 206294\n",
      "Data columns (total 21 columns):\n",
      " #   Column                 Non-Null Count   Dtype         \n",
      "---  ------                 --------------   -----         \n",
      " 0   ID                     201249 non-null  object        \n",
      " 1   C/A                    201249 non-null  object        \n",
      " 2   UNIT                   201249 non-null  object        \n",
      " 3   SCP                    201249 non-null  object        \n",
      " 4   STATION                201249 non-null  object        \n",
      " 5   LINENAME               201249 non-null  object        \n",
      " 6   DIVISION               201249 non-null  object        \n",
      " 7   DATE                   201249 non-null  object        \n",
      " 8   TIME                   201249 non-null  object        \n",
      " 9   OBSERVED_TIME          201249 non-null  datetime64[ns]\n",
      " 10  COMPLEX_ID             179765 non-null  float64       \n",
      " 11  Station ID             174647 non-null  float64       \n",
      " 12  Stop Name              174647 non-null  object        \n",
      " 13  GTFS Latitude          174647 non-null  float64       \n",
      " 14  GTFS Longitude         174647 non-null  float64       \n",
      " 15  North Direction Label  167426 non-null  object        \n",
      " 16  South Direction Label  168952 non-null  object        \n",
      " 17  ADA                    174647 non-null  float64       \n",
      " 18  ADA Notes              5608 non-null    object        \n",
      " 19  ENTRIES                201249 non-null  float64       \n",
      " 20  EXITS                  201249 non-null  float64       \n",
      "dtypes: datetime64[ns](1), float64(7), object(13)\n",
      "memory usage: 33.8+ MB\n"
     ]
    }
   ],
   "source": [
    "ADA_df.rename({\"ACTUALENTRIES\":'ENTRIES',\"ACTUALEXITS\":\"EXITS\"},axis=1, inplace=True)\n",
    "ADA_df.info()"
   ]
  },
  {
   "cell_type": "code",
   "execution_count": null,
   "metadata": {},
   "outputs": [],
   "source": []
  },
  {
   "cell_type": "code",
   "execution_count": null,
   "metadata": {},
   "outputs": [],
   "source": []
  },
  {
   "cell_type": "code",
   "execution_count": null,
   "metadata": {},
   "outputs": [],
   "source": []
  },
  {
   "cell_type": "code",
   "execution_count": null,
   "metadata": {},
   "outputs": [],
   "source": []
  },
  {
   "cell_type": "code",
   "execution_count": null,
   "metadata": {},
   "outputs": [],
   "source": []
  }
 ],
 "metadata": {
  "kernelspec": {
   "display_name": "Python 3",
   "language": "python",
   "name": "python3"
  },
  "language_info": {
   "codemirror_mode": {
    "name": "ipython",
    "version": 3
   },
   "file_extension": ".py",
   "mimetype": "text/x-python",
   "name": "python",
   "nbconvert_exporter": "python",
   "pygments_lexer": "ipython3",
   "version": "3.8.5"
  }
 },
 "nbformat": 4,
 "nbformat_minor": 4
}
